{
 "cells": [
  {
   "cell_type": "markdown",
   "metadata": {},
   "source": [
    "# Let's Engineer the Features!\n",
    "\n",
    "First we should load the data."
   ]
  },
  {
   "cell_type": "code",
   "execution_count": 2,
   "metadata": {},
   "outputs": [
    {
     "data": {
      "text/html": [
       "<div>\n",
       "<style scoped>\n",
       "    .dataframe tbody tr th:only-of-type {\n",
       "        vertical-align: middle;\n",
       "    }\n",
       "\n",
       "    .dataframe tbody tr th {\n",
       "        vertical-align: top;\n",
       "    }\n",
       "\n",
       "    .dataframe thead th {\n",
       "        text-align: right;\n",
       "    }\n",
       "</style>\n",
       "<table border=\"1\" class=\"dataframe\">\n",
       "  <thead>\n",
       "    <tr style=\"text-align: right;\">\n",
       "      <th></th>\n",
       "      <th>Date</th>\n",
       "      <th>EventCode</th>\n",
       "      <th>ActionGeo_FullName</th>\n",
       "      <th>ActionGeo_Lat</th>\n",
       "      <th>ActionGeo_Long</th>\n",
       "      <th>AvgTone</th>\n",
       "    </tr>\n",
       "  </thead>\n",
       "  <tbody>\n",
       "    <tr>\n",
       "      <th>0</th>\n",
       "      <td>2024-08-23</td>\n",
       "      <td>145</td>\n",
       "      <td>Union Park, Illinois, United States</td>\n",
       "      <td>41.8839</td>\n",
       "      <td>-87.6648</td>\n",
       "      <td>-3.046968</td>\n",
       "    </tr>\n",
       "    <tr>\n",
       "      <th>1</th>\n",
       "      <td>2024-08-22</td>\n",
       "      <td>145</td>\n",
       "      <td>Union Park, Illinois, United States</td>\n",
       "      <td>41.8839</td>\n",
       "      <td>-87.6648</td>\n",
       "      <td>0.000000</td>\n",
       "    </tr>\n",
       "    <tr>\n",
       "      <th>2</th>\n",
       "      <td>2024-08-20</td>\n",
       "      <td>145</td>\n",
       "      <td>Union Park, Illinois, United States</td>\n",
       "      <td>41.8839</td>\n",
       "      <td>-87.6648</td>\n",
       "      <td>-4.319654</td>\n",
       "    </tr>\n",
       "    <tr>\n",
       "      <th>3</th>\n",
       "      <td>2024-08-20</td>\n",
       "      <td>145</td>\n",
       "      <td>Union Park, Illinois, United States</td>\n",
       "      <td>41.8839</td>\n",
       "      <td>-87.6648</td>\n",
       "      <td>-4.319654</td>\n",
       "    </tr>\n",
       "    <tr>\n",
       "      <th>4</th>\n",
       "      <td>2024-06-27</td>\n",
       "      <td>145</td>\n",
       "      <td>Buckingham Fountain, Illinois, United States</td>\n",
       "      <td>41.8756</td>\n",
       "      <td>-87.6189</td>\n",
       "      <td>-7.052186</td>\n",
       "    </tr>\n",
       "  </tbody>\n",
       "</table>\n",
       "</div>"
      ],
      "text/plain": [
       "         Date  EventCode                            ActionGeo_FullName  \\\n",
       "0  2024-08-23        145           Union Park, Illinois, United States   \n",
       "1  2024-08-22        145           Union Park, Illinois, United States   \n",
       "2  2024-08-20        145           Union Park, Illinois, United States   \n",
       "3  2024-08-20        145           Union Park, Illinois, United States   \n",
       "4  2024-06-27        145  Buckingham Fountain, Illinois, United States   \n",
       "\n",
       "   ActionGeo_Lat  ActionGeo_Long   AvgTone  \n",
       "0        41.8839        -87.6648 -3.046968  \n",
       "1        41.8839        -87.6648  0.000000  \n",
       "2        41.8839        -87.6648 -4.319654  \n",
       "3        41.8839        -87.6648 -4.319654  \n",
       "4        41.8756        -87.6189 -7.052186  "
      ]
     },
     "execution_count": 2,
     "metadata": {},
     "output_type": "execute_result"
    }
   ],
   "source": [
    "import pandas as pd\n",
    "\n",
    "# Load the data\n",
    "data = pd.read_csv('csv/data_cleaned.csv')\n",
    "\n",
    "# Display the first few rows of the dataframe\n",
    "data.head()"
   ]
  },
  {
   "cell_type": "markdown",
   "metadata": {},
   "source": [
    "---\n",
    "\n",
    "Let's create our feature set. We've already engineered our labels.\n",
    "\n",
    "---"
   ]
  },
  {
   "cell_type": "markdown",
   "metadata": {},
   "source": [
    "### **Features as a Tensor**\n",
    "\n",
    "The input data for the model is represented as a 3D tensor:\n",
    "\n",
    "$$\n",
    "\\mathbf{X} \\in \\mathbb{R}^{B \\times T \\times F}\n",
    "$$\n",
    "\n",
    "Where:\n",
    "- $ B $: Number of unique target dates in the label dataset that have at least $ T = 30 $ predecessor events.\n",
    "- $ T = 30 $: Length of the sequence (time steps).\n",
    "- $ F = 5 $: Number of features per time step.\n",
    "\n",
    "---\n",
    "\n",
    "### **Feature Definition**\n",
    "\n",
    "For each row in the sequence:\n",
    "$$\n",
    "\\mathbf{x}_t = [\\text{event\\_date}_t, \\text{lat}_t, \\text{long}_t, \\text{score}_t, \\text{target\\_date}]\n",
    "$$\n",
    "\n",
    "- $ \\text{event\\_date}_t $: Date of the historical event at time step $ t $.\n",
    "- $ \\text{lat}_t, \\text{long}_t $: Latitude and longitude of the event at time step $ t $.\n",
    "- $ \\text{score}_t $: Score of the event at time step $ t $.\n",
    "- $ \\text{target\\_date} $: The specific date for which the model is predicting a score (constant across the sequence).\n",
    "\n",
    "---\n",
    "\n",
    "### **Matrix for a Single Sequence**\n",
    "\n",
    "The feature matrix for one sequence is:\n",
    "\n",
    "$$\n",
    "\\mathbf{X}_b =\n",
    "\\begin{bmatrix}\n",
    "\\text{event\\_date}_1 & \\text{lat}_1 & \\text{long}_1 & \\text{score}_1 & \\text{target\\_date} \\\\\n",
    "\\text{event\\_date}_2 & \\text{lat}_2 & \\text{long}_2 & \\text{score}_2 & \\text{target\\_date} \\\\\n",
    "\\vdots & \\vdots & \\vdots & \\vdots & \\vdots \\\\\n",
    "\\text{event\\_date}_{30} & \\text{lat}_{30} & \\text{long}_{30} & \\text{score}_{30} & \\text{target\\_date}\n",
    "\\end{bmatrix}\n",
    "$$\n",
    "\n",
    "Where:\n",
    "$$\n",
    "\\mathbf{X}_b \\in \\mathbb{R}^{T \\times F}\n",
    "$$\n",
    "\n",
    "---\n"
   ]
  },
  {
   "cell_type": "code",
   "execution_count": 3,
   "metadata": {},
   "outputs": [],
   "source": [
    "def create_sequences(data, sequence_length=30):\n",
    "    X = []\n",
    "    target_dates = []\n",
    "\n",
    "    # Convert Date column to datetime\n",
    "    data['Date'] = pd.to_datetime(data['Date'])\n",
    "\n",
    "    # Sort data by Date\n",
    "    data = data.sort_values(by='Date')\n",
    "\n",
    "    # Create a date range from the minimum date in the data to today\n",
    "    date_range = pd.date_range(start=data['Date'].min(), end=pd.Timestamp.today())\n",
    "\n",
    "    # Iterate through each date in the date range\n",
    "    for target_date in date_range:\n",
    "        # Get rows with event dates before the target date\n",
    "        historical_data = data[data['Date'] < target_date]\n",
    "\n",
    "        # Check if there are at least sequence_length rows\n",
    "        if len(historical_data) >= sequence_length:\n",
    "            # Get the last sequence_length rows\n",
    "            tensor = historical_data.iloc[-sequence_length:].copy()\n",
    "            # Drop the EventCode and ActionGeo_FullName columns\n",
    "            tensor = tensor.drop(columns=['EventCode', 'ActionGeo_FullName'])\n",
    "            # Add the target date as a new column\n",
    "            tensor['TargetDate'] = target_date\n",
    "            X.append(tensor)\n",
    "            target_dates.append(target_date)\n",
    "\n",
    "    return X, target_dates\n",
    "\n",
    "# Create sequences\n",
    "X, target_dates = create_sequences(data)\n"
   ]
  },
  {
   "cell_type": "markdown",
   "metadata": {},
   "source": [
    "---\n",
    "\n",
    "Let's see if they were correctly imported.\n",
    "\n",
    "---"
   ]
  },
  {
   "cell_type": "code",
   "execution_count": 16,
   "metadata": {},
   "outputs": [
    {
     "name": "stdout",
     "output_type": "stream",
     "text": [
      "First sequence:\n"
     ]
    },
    {
     "data": {
      "text/html": [
       "<div>\n",
       "<style scoped>\n",
       "    .dataframe tbody tr th:only-of-type {\n",
       "        vertical-align: middle;\n",
       "    }\n",
       "\n",
       "    .dataframe tbody tr th {\n",
       "        vertical-align: top;\n",
       "    }\n",
       "\n",
       "    .dataframe thead th {\n",
       "        text-align: right;\n",
       "    }\n",
       "</style>\n",
       "<table border=\"1\" class=\"dataframe\">\n",
       "  <thead>\n",
       "    <tr style=\"text-align: right;\">\n",
       "      <th></th>\n",
       "      <th>Date</th>\n",
       "      <th>ActionGeo_Lat</th>\n",
       "      <th>ActionGeo_Long</th>\n",
       "      <th>AvgTone</th>\n",
       "      <th>TargetDate</th>\n",
       "    </tr>\n",
       "  </thead>\n",
       "  <tbody>\n",
       "    <tr>\n",
       "      <th>3494</th>\n",
       "      <td>2015-01-08</td>\n",
       "      <td>41.85</td>\n",
       "      <td>-87.6501</td>\n",
       "      <td>2.007772</td>\n",
       "      <td>2015-05-07</td>\n",
       "    </tr>\n",
       "    <tr>\n",
       "      <th>3490</th>\n",
       "      <td>2015-01-19</td>\n",
       "      <td>41.85</td>\n",
       "      <td>-87.6501</td>\n",
       "      <td>2.494577</td>\n",
       "      <td>2015-05-07</td>\n",
       "    </tr>\n",
       "    <tr>\n",
       "      <th>3493</th>\n",
       "      <td>2015-01-19</td>\n",
       "      <td>41.85</td>\n",
       "      <td>-87.6501</td>\n",
       "      <td>2.857143</td>\n",
       "      <td>2015-05-07</td>\n",
       "    </tr>\n",
       "    <tr>\n",
       "      <th>3492</th>\n",
       "      <td>2015-01-19</td>\n",
       "      <td>41.85</td>\n",
       "      <td>-87.6501</td>\n",
       "      <td>2.494577</td>\n",
       "      <td>2015-05-07</td>\n",
       "    </tr>\n",
       "    <tr>\n",
       "      <th>3491</th>\n",
       "      <td>2015-01-19</td>\n",
       "      <td>41.85</td>\n",
       "      <td>-87.6501</td>\n",
       "      <td>2.494577</td>\n",
       "      <td>2015-05-07</td>\n",
       "    </tr>\n",
       "  </tbody>\n",
       "</table>\n",
       "</div>"
      ],
      "text/plain": [
       "           Date  ActionGeo_Lat  ActionGeo_Long   AvgTone TargetDate\n",
       "3494 2015-01-08          41.85        -87.6501  2.007772 2015-05-07\n",
       "3490 2015-01-19          41.85        -87.6501  2.494577 2015-05-07\n",
       "3493 2015-01-19          41.85        -87.6501  2.857143 2015-05-07\n",
       "3492 2015-01-19          41.85        -87.6501  2.494577 2015-05-07\n",
       "3491 2015-01-19          41.85        -87.6501  2.494577 2015-05-07"
      ]
     },
     "metadata": {},
     "output_type": "display_data"
    },
    {
     "name": "stdout",
     "output_type": "stream",
     "text": [
      "\n",
      "Second sequence:\n",
      "\n",
      "Third sequence:\n"
     ]
    }
   ],
   "source": [
    "from IPython.display import display\n",
    "\n",
    "# Display the first sequence\n",
    "print(\"First sequence:\")\n",
    "display(X[0].head())\n",
    "\n",
    "#print(\"\\nSecond sequence:\")\n",
    "#display(X[1].drop(columns=['TargetDate']))\n",
    "\n",
    "#print(\"\\nThird sequence:\")\n",
    "#display(X[2].drop(columns=['TargetDate']))\n",
    "\n",
    "# Iterate through rows of X[1] and X[2] and print the differences in one line\n",
    "for row1, row2 in zip(X[1].drop(columns=['TargetDate']).itertuples(index=False), X[2].drop(columns=['TargetDate']).itertuples(index=False)):\n",
    "    differences = [val1 - val2 for val1, val2 in zip(row1, row2)]\n",
    "    #print(f\"Differences: {differences}\")\n"
   ]
  },
  {
   "cell_type": "markdown",
   "metadata": {},
   "source": [
    "---\n",
    "\n",
    "Looks like the features are propperly engineered into the tensor!\n",
    "\n",
    "You can un-comment the prints above to compare. It looks correct to me.\n",
    "\n",
    "---"
   ]
  },
  {
   "cell_type": "markdown",
   "metadata": {},
   "source": [
    "---\n",
    "\n",
    "### **Label Definition**\n",
    "\n",
    "The label for each sequence ($ b $) corresponds to the score for the target date:\n",
    "$$\n",
    "y_b = \\text{score}_{\\text{target\\_date}}\n",
    "$$\n",
    "\n",
    "The label vector for all batches is:\n",
    "$$\n",
    "\\mathbf{y} \\in \\mathbb{R}^B\n",
    "$$\n",
    "\n",
    "---"
   ]
  },
  {
   "cell_type": "code",
   "execution_count": 5,
   "metadata": {},
   "outputs": [
    {
     "data": {
      "text/html": [
       "<div>\n",
       "<style scoped>\n",
       "    .dataframe tbody tr th:only-of-type {\n",
       "        vertical-align: middle;\n",
       "    }\n",
       "\n",
       "    .dataframe tbody tr th {\n",
       "        vertical-align: top;\n",
       "    }\n",
       "\n",
       "    .dataframe thead th {\n",
       "        text-align: right;\n",
       "    }\n",
       "</style>\n",
       "<table border=\"1\" class=\"dataframe\">\n",
       "  <thead>\n",
       "    <tr style=\"text-align: right;\">\n",
       "      <th></th>\n",
       "      <th>Date</th>\n",
       "      <th>Total Score</th>\n",
       "    </tr>\n",
       "  </thead>\n",
       "  <tbody>\n",
       "    <tr>\n",
       "      <th>0</th>\n",
       "      <td>2015-12-25</td>\n",
       "      <td>-589.428382</td>\n",
       "    </tr>\n",
       "    <tr>\n",
       "      <th>1</th>\n",
       "      <td>2015-12-26</td>\n",
       "      <td>0.000000</td>\n",
       "    </tr>\n",
       "    <tr>\n",
       "      <th>2</th>\n",
       "      <td>2015-12-27</td>\n",
       "      <td>0.000000</td>\n",
       "    </tr>\n",
       "    <tr>\n",
       "      <th>3</th>\n",
       "      <td>2015-12-28</td>\n",
       "      <td>0.000000</td>\n",
       "    </tr>\n",
       "    <tr>\n",
       "      <th>4</th>\n",
       "      <td>2015-12-29</td>\n",
       "      <td>0.000000</td>\n",
       "    </tr>\n",
       "  </tbody>\n",
       "</table>\n",
       "</div>"
      ],
      "text/plain": [
       "         Date  Total Score\n",
       "0  2015-12-25  -589.428382\n",
       "1  2015-12-26     0.000000\n",
       "2  2015-12-27     0.000000\n",
       "3  2015-12-28     0.000000\n",
       "4  2015-12-29     0.000000"
      ]
     },
     "execution_count": 5,
     "metadata": {},
     "output_type": "execute_result"
    }
   ],
   "source": [
    "# Load the scored events data\n",
    "daily_score = pd.read_csv('model_csv/daily_score.csv')\n",
    "\n",
    "# Display the first few rows of the dataframe\n",
    "daily_score.head()"
   ]
  },
  {
   "cell_type": "code",
   "execution_count": 17,
   "metadata": {},
   "outputs": [
    {
     "name": "stdout",
     "output_type": "stream",
     "text": [
      "Number of sequences after filtering: 3524\n",
      "Number of target dates after filtering: 3524\n"
     ]
    }
   ],
   "source": [
    "# Find the minimum target date in y\n",
    "min_target_date = min(target_dates)\n",
    "\n",
    "# Filter sequences and target_dates to only include those with target dates on or after min_target_date\n",
    "filtered_sequences = [seq for seq, date in zip(X, target_dates) if date >= min_target_date]\n",
    "filtered_target_dates = [date for date in target_dates if date >= min_target_date]\n",
    "\n",
    "# Update the sequences and target_dates variables\n",
    "X = filtered_sequences\n",
    "target_dates = filtered_target_dates\n",
    "\n",
    "# Display the number of sequences and target dates after filtering\n",
    "print(f\"Number of sequences after filtering: {len(X)}\")\n",
    "print(f\"Number of target dates after filtering: {len(target_dates)}\")"
   ]
  },
  {
   "cell_type": "markdown",
   "metadata": {},
   "source": [
    "---\n",
    "\n",
    "# The code below has not yet been refactored!\n",
    "\n",
    "---"
   ]
  },
  {
   "cell_type": "code",
   "execution_count": 13,
   "metadata": {},
   "outputs": [
    {
     "ename": "KeyError",
     "evalue": "'SQLDATE'",
     "output_type": "error",
     "traceback": [
      "\u001b[0;31m---------------------------------------------------------------------------\u001b[0m",
      "\u001b[0;31mKeyError\u001b[0m                                  Traceback (most recent call last)",
      "File \u001b[0;32m/opt/anaconda3/envs/civil_unrest/lib/python3.9/site-packages/pandas/core/indexes/base.py:3805\u001b[0m, in \u001b[0;36mIndex.get_loc\u001b[0;34m(self, key)\u001b[0m\n\u001b[1;32m   3804\u001b[0m \u001b[38;5;28;01mtry\u001b[39;00m:\n\u001b[0;32m-> 3805\u001b[0m     \u001b[38;5;28;01mreturn\u001b[39;00m \u001b[38;5;28;43mself\u001b[39;49m\u001b[38;5;241;43m.\u001b[39;49m\u001b[43m_engine\u001b[49m\u001b[38;5;241;43m.\u001b[39;49m\u001b[43mget_loc\u001b[49m\u001b[43m(\u001b[49m\u001b[43mcasted_key\u001b[49m\u001b[43m)\u001b[49m\n\u001b[1;32m   3806\u001b[0m \u001b[38;5;28;01mexcept\u001b[39;00m \u001b[38;5;167;01mKeyError\u001b[39;00m \u001b[38;5;28;01mas\u001b[39;00m err:\n",
      "File \u001b[0;32mindex.pyx:167\u001b[0m, in \u001b[0;36mpandas._libs.index.IndexEngine.get_loc\u001b[0;34m()\u001b[0m\n",
      "File \u001b[0;32mindex.pyx:196\u001b[0m, in \u001b[0;36mpandas._libs.index.IndexEngine.get_loc\u001b[0;34m()\u001b[0m\n",
      "File \u001b[0;32mpandas/_libs/hashtable_class_helper.pxi:7081\u001b[0m, in \u001b[0;36mpandas._libs.hashtable.PyObjectHashTable.get_item\u001b[0;34m()\u001b[0m\n",
      "File \u001b[0;32mpandas/_libs/hashtable_class_helper.pxi:7089\u001b[0m, in \u001b[0;36mpandas._libs.hashtable.PyObjectHashTable.get_item\u001b[0;34m()\u001b[0m\n",
      "\u001b[0;31mKeyError\u001b[0m: 'SQLDATE'",
      "\nThe above exception was the direct cause of the following exception:\n",
      "\u001b[0;31mKeyError\u001b[0m                                  Traceback (most recent call last)",
      "Cell \u001b[0;32mIn[13], line 10\u001b[0m\n\u001b[1;32m      7\u001b[0m     \u001b[38;5;28;01mreturn\u001b[39;00m aggregated\u001b[38;5;241m.\u001b[39mset_index(\u001b[38;5;124m'\u001b[39m\u001b[38;5;124mSQLDATE\u001b[39m\u001b[38;5;124m'\u001b[39m)\n\u001b[1;32m      9\u001b[0m \u001b[38;5;66;03m# Aggregate and reindex data\u001b[39;00m\n\u001b[0;32m---> 10\u001b[0m data_aggregated \u001b[38;5;241m=\u001b[39m \u001b[43maggregate_data\u001b[49m\u001b[43m(\u001b[49m\u001b[43mdata\u001b[49m\u001b[43m)\u001b[49m\n\u001b[1;32m     11\u001b[0m label_data_aggregated \u001b[38;5;241m=\u001b[39m aggregate_data(label_data)\n\u001b[1;32m     13\u001b[0m \u001b[38;5;66;03m# Create a date range and reindex both dataframes\u001b[39;00m\n",
      "Cell \u001b[0;32mIn[13], line 4\u001b[0m, in \u001b[0;36maggregate_data\u001b[0;34m(df)\u001b[0m\n\u001b[1;32m      2\u001b[0m \u001b[38;5;28;01mdef\u001b[39;00m \u001b[38;5;21maggregate_data\u001b[39m(df):\n\u001b[1;32m      3\u001b[0m     df_copy \u001b[38;5;241m=\u001b[39m df\u001b[38;5;241m.\u001b[39mcopy()\n\u001b[0;32m----> 4\u001b[0m     df_copy[\u001b[38;5;124m'\u001b[39m\u001b[38;5;124mSQLDATE\u001b[39m\u001b[38;5;124m'\u001b[39m] \u001b[38;5;241m=\u001b[39m pd\u001b[38;5;241m.\u001b[39mto_datetime(\u001b[43mdf_copy\u001b[49m\u001b[43m[\u001b[49m\u001b[38;5;124;43m'\u001b[39;49m\u001b[38;5;124;43mSQLDATE\u001b[39;49m\u001b[38;5;124;43m'\u001b[39;49m\u001b[43m]\u001b[49m, \u001b[38;5;28mformat\u001b[39m\u001b[38;5;241m=\u001b[39m\u001b[38;5;124m'\u001b[39m\u001b[38;5;124m%\u001b[39m\u001b[38;5;124mY\u001b[39m\u001b[38;5;124m%\u001b[39m\u001b[38;5;124mm\u001b[39m\u001b[38;5;132;01m%d\u001b[39;00m\u001b[38;5;124m'\u001b[39m)\n\u001b[1;32m      5\u001b[0m     aggregated \u001b[38;5;241m=\u001b[39m df_copy\u001b[38;5;241m.\u001b[39mgroupby(\u001b[38;5;124m'\u001b[39m\u001b[38;5;124mSQLDATE\u001b[39m\u001b[38;5;124m'\u001b[39m)\u001b[38;5;241m.\u001b[39magg({\u001b[38;5;124m'\u001b[39m\u001b[38;5;124mEventCode\u001b[39m\u001b[38;5;124m'\u001b[39m: \u001b[38;5;124m'\u001b[39m\u001b[38;5;124msize\u001b[39m\u001b[38;5;124m'\u001b[39m, \u001b[38;5;124m'\u001b[39m\u001b[38;5;124mAvgTone\u001b[39m\u001b[38;5;124m'\u001b[39m: \u001b[38;5;124m'\u001b[39m\u001b[38;5;124msum\u001b[39m\u001b[38;5;124m'\u001b[39m})\u001b[38;5;241m.\u001b[39mreset_index()\n\u001b[1;32m      6\u001b[0m     aggregated\u001b[38;5;241m.\u001b[39mcolumns \u001b[38;5;241m=\u001b[39m [\u001b[38;5;124m'\u001b[39m\u001b[38;5;124mSQLDATE\u001b[39m\u001b[38;5;124m'\u001b[39m, \u001b[38;5;124m'\u001b[39m\u001b[38;5;124mNumber of Events\u001b[39m\u001b[38;5;124m'\u001b[39m, \u001b[38;5;124m'\u001b[39m\u001b[38;5;124mTotal AvgTone\u001b[39m\u001b[38;5;124m'\u001b[39m]\n",
      "File \u001b[0;32m/opt/anaconda3/envs/civil_unrest/lib/python3.9/site-packages/pandas/core/frame.py:4102\u001b[0m, in \u001b[0;36mDataFrame.__getitem__\u001b[0;34m(self, key)\u001b[0m\n\u001b[1;32m   4100\u001b[0m \u001b[38;5;28;01mif\u001b[39;00m \u001b[38;5;28mself\u001b[39m\u001b[38;5;241m.\u001b[39mcolumns\u001b[38;5;241m.\u001b[39mnlevels \u001b[38;5;241m>\u001b[39m \u001b[38;5;241m1\u001b[39m:\n\u001b[1;32m   4101\u001b[0m     \u001b[38;5;28;01mreturn\u001b[39;00m \u001b[38;5;28mself\u001b[39m\u001b[38;5;241m.\u001b[39m_getitem_multilevel(key)\n\u001b[0;32m-> 4102\u001b[0m indexer \u001b[38;5;241m=\u001b[39m \u001b[38;5;28;43mself\u001b[39;49m\u001b[38;5;241;43m.\u001b[39;49m\u001b[43mcolumns\u001b[49m\u001b[38;5;241;43m.\u001b[39;49m\u001b[43mget_loc\u001b[49m\u001b[43m(\u001b[49m\u001b[43mkey\u001b[49m\u001b[43m)\u001b[49m\n\u001b[1;32m   4103\u001b[0m \u001b[38;5;28;01mif\u001b[39;00m is_integer(indexer):\n\u001b[1;32m   4104\u001b[0m     indexer \u001b[38;5;241m=\u001b[39m [indexer]\n",
      "File \u001b[0;32m/opt/anaconda3/envs/civil_unrest/lib/python3.9/site-packages/pandas/core/indexes/base.py:3812\u001b[0m, in \u001b[0;36mIndex.get_loc\u001b[0;34m(self, key)\u001b[0m\n\u001b[1;32m   3807\u001b[0m     \u001b[38;5;28;01mif\u001b[39;00m \u001b[38;5;28misinstance\u001b[39m(casted_key, \u001b[38;5;28mslice\u001b[39m) \u001b[38;5;129;01mor\u001b[39;00m (\n\u001b[1;32m   3808\u001b[0m         \u001b[38;5;28misinstance\u001b[39m(casted_key, abc\u001b[38;5;241m.\u001b[39mIterable)\n\u001b[1;32m   3809\u001b[0m         \u001b[38;5;129;01mand\u001b[39;00m \u001b[38;5;28many\u001b[39m(\u001b[38;5;28misinstance\u001b[39m(x, \u001b[38;5;28mslice\u001b[39m) \u001b[38;5;28;01mfor\u001b[39;00m x \u001b[38;5;129;01min\u001b[39;00m casted_key)\n\u001b[1;32m   3810\u001b[0m     ):\n\u001b[1;32m   3811\u001b[0m         \u001b[38;5;28;01mraise\u001b[39;00m InvalidIndexError(key)\n\u001b[0;32m-> 3812\u001b[0m     \u001b[38;5;28;01mraise\u001b[39;00m \u001b[38;5;167;01mKeyError\u001b[39;00m(key) \u001b[38;5;28;01mfrom\u001b[39;00m \u001b[38;5;21;01merr\u001b[39;00m\n\u001b[1;32m   3813\u001b[0m \u001b[38;5;28;01mexcept\u001b[39;00m \u001b[38;5;167;01mTypeError\u001b[39;00m:\n\u001b[1;32m   3814\u001b[0m     \u001b[38;5;66;03m# If we have a listlike key, _check_indexing_error will raise\u001b[39;00m\n\u001b[1;32m   3815\u001b[0m     \u001b[38;5;66;03m#  InvalidIndexError. Otherwise we fall through and re-raise\u001b[39;00m\n\u001b[1;32m   3816\u001b[0m     \u001b[38;5;66;03m#  the TypeError.\u001b[39;00m\n\u001b[1;32m   3817\u001b[0m     \u001b[38;5;28mself\u001b[39m\u001b[38;5;241m.\u001b[39m_check_indexing_error(key)\n",
      "\u001b[0;31mKeyError\u001b[0m: 'SQLDATE'"
     ]
    }
   ],
   "source": [
    "# Function to aggregate data by date\n",
    "def aggregate_data(df):\n",
    "    df_copy = df.copy()\n",
    "    df_copy['SQLDATE'] = pd.to_datetime(df_copy['SQLDATE'], format='%Y%m%d')\n",
    "    aggregated = df_copy.groupby('SQLDATE').agg({'EventCode': 'size', 'AvgTone': 'sum'}).reset_index()\n",
    "    aggregated.columns = ['SQLDATE', 'Number of Events', 'Total AvgTone']\n",
    "    return aggregated.set_index('SQLDATE')\n",
    "\n",
    "# Aggregate and reindex data\n",
    "data_aggregated = aggregate_data(data)\n",
    "label_data_aggregated = aggregate_data(label_data)\n",
    "\n",
    "# Create a date range and reindex both dataframes\n",
    "all_dates = pd.date_range(start=data_aggregated.index.min(), end=pd.Timestamp.today())\n",
    "reindex_data = data_aggregated.reindex(all_dates, fill_value=0).reset_index()\n",
    "reindex_label_data = label_data_aggregated.reindex(all_dates, fill_value=0).reset_index()\n",
    "\n",
    "# Rename columns\n",
    "reindex_data.columns = ['SQLDATE', 'Number of Events', 'Total AvgTone']\n",
    "reindex_label_data.columns = ['SQLDATE', 'Number of Events', 'Total AvgTone']\n",
    "\n",
    "# Display the resulting DataFrames\n",
    "reindex_data, reindex_label_data\n"
   ]
  },
  {
   "cell_type": "markdown",
   "metadata": {},
   "source": [
    "---\n",
    "\n",
    "## Saving Test & Train Data\n",
    "\n",
    "The reindex_data is the propper formulation for the labels of our data set. Let's quickly save test and train sets. I want to capture a really bad protest, and then see if it can predict some of the events in 2023.\n",
    "\n",
    "Splitting on 2021 seems like a solid choice to capture both types of events.\n",
    "\n",
    "---"
   ]
  },
  {
   "cell_type": "code",
   "execution_count": null,
   "metadata": {},
   "outputs": [
    {
     "ename": "NameError",
     "evalue": "name 'reindex_data' is not defined",
     "output_type": "error",
     "traceback": [
      "\u001b[0;31m---------------------------------------------------------------------------\u001b[0m\n",
      "\u001b[0;31mNameError\u001b[0m                                 Traceback (most recent call last)\n",
      "Cell \u001b[0;32mIn[197], line 2\u001b[0m\n",
      "\u001b[1;32m      1\u001b[0m \u001b[38;5;66;03m# Split the data into before and after 2021\u001b[39;00m\n",
      "\u001b[0;32m----> 2\u001b[0m train_data_labels \u001b[38;5;241m=\u001b[39m \u001b[43mreindex_data\u001b[49m[reindex_data[\u001b[38;5;124m'\u001b[39m\u001b[38;5;124mSQLDATE\u001b[39m\u001b[38;5;124m'\u001b[39m] \u001b[38;5;241m<\u001b[39m \u001b[38;5;124m'\u001b[39m\u001b[38;5;124m2021-01-01\u001b[39m\u001b[38;5;124m'\u001b[39m]\n",
      "\u001b[1;32m      3\u001b[0m test_data_labels \u001b[38;5;241m=\u001b[39m reindex_data[reindex_data[\u001b[38;5;124m'\u001b[39m\u001b[38;5;124mSQLDATE\u001b[39m\u001b[38;5;124m'\u001b[39m] \u001b[38;5;241m>\u001b[39m\u001b[38;5;241m=\u001b[39m \u001b[38;5;124m'\u001b[39m\u001b[38;5;124m2021-01-01\u001b[39m\u001b[38;5;124m'\u001b[39m]\n",
      "\u001b[1;32m      5\u001b[0m \u001b[38;5;66;03m# Display the resulting dataframes\u001b[39;00m\n",
      "\n",
      "\u001b[0;31mNameError\u001b[0m: name 'reindex_data' is not defined"
     ]
    }
   ],
   "source": [
    "# Split the data into before and after 2021\n",
    "train_data_labels = reindex_data[reindex_data['SQLDATE'] < '2021-01-01']\n",
    "test_data_labels = reindex_data[reindex_data['SQLDATE'] >= '2021-01-01']\n",
    "\n",
    "# Display the resulting dataframes\n",
    "print(\"Train Data:\")\n",
    "display(train_data_labels)\n",
    "print(\"\\nTest Data:\")\n",
    "display(test_data_labels)"
   ]
  },
  {
   "cell_type": "code",
   "execution_count": null,
   "metadata": {},
   "outputs": [],
   "source": [
    "# Remove the \"Number of Events\" column\n",
    "train_data_labels = train_data_labels.drop(columns=['Number of Events'])\n",
    "test_data_labels = test_data_labels.drop(columns=['Number of Events'])\n",
    "reindex_data = reindex_data.drop(columns=['Number of Events'])\n",
    "\n",
    "# Save the train and test data to CSV files\n",
    "train_data_labels.to_csv('train_data_labels.csv', index=False)\n",
    "test_data_labels.to_csv('test_data_labels.csv', index=False)\n",
    "reindex_data.to_csv('data_labels.csv', index=False)"
   ]
  },
  {
   "cell_type": "markdown",
   "metadata": {},
   "source": []
  }
 ],
 "metadata": {
  "kernelspec": {
   "display_name": "Python (civil_unrest)",
   "language": "python",
   "name": "civil_unrest"
  },
  "language_info": {
   "codemirror_mode": {
    "name": "ipython",
    "version": 3
   },
   "file_extension": ".py",
   "mimetype": "text/x-python",
   "name": "python",
   "nbconvert_exporter": "python",
   "pygments_lexer": "ipython3",
   "version": "3.9.21"
  }
 },
 "nbformat": 4,
 "nbformat_minor": 2
}
