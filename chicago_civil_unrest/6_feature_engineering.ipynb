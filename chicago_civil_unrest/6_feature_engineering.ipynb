{
 "cells": [
  {
   "cell_type": "markdown",
   "metadata": {},
   "source": [
    "# Let's Engineer the Features!\n",
    "\n",
    "I want to build the model where on a given day, you can review the last rows of the df with the most recent information, and then use that to predict tomorrow's Total AvgTone."
   ]
  },
  {
   "cell_type": "code",
   "execution_count": null,
   "metadata": {},
   "outputs": [
    {
     "data": {
      "text/plain": [
       "(        SQLDATE  Number of Events  Total AvgTone\n",
       " 0    2015-01-08                 1       2.007772\n",
       " 1    2015-01-09                 0       0.000000\n",
       " 2    2015-01-10                 0       0.000000\n",
       " 3    2015-01-11                 0       0.000000\n",
       " 4    2015-01-12                 0       0.000000\n",
       " ...         ...               ...            ...\n",
       " 3636 2024-12-22                 0       0.000000\n",
       " 3637 2024-12-23                 0       0.000000\n",
       " 3638 2024-12-24                 0       0.000000\n",
       " 3639 2024-12-25                 0       0.000000\n",
       " 3640 2024-12-26                 0       0.000000\n",
       " \n",
       " [3641 rows x 3 columns],\n",
       "         SQLDATE  Number of Events  Total AvgTone\n",
       " 0    2015-01-08                 0            0.0\n",
       " 1    2015-01-09                 0            0.0\n",
       " 2    2015-01-10                 0            0.0\n",
       " 3    2015-01-11                 0            0.0\n",
       " 4    2015-01-12                 0            0.0\n",
       " ...         ...               ...            ...\n",
       " 3636 2024-12-22                 0            0.0\n",
       " 3637 2024-12-23                 0            0.0\n",
       " 3638 2024-12-24                 0            0.0\n",
       " 3639 2024-12-25                 0            0.0\n",
       " 3640 2024-12-26                 0            0.0\n",
       " \n",
       " [3641 rows x 3 columns])"
      ]
     },
     "metadata": {},
     "output_type": "display_data"
    }
   ],
   "source": [
    "# Function to aggregate data by date\n",
    "def aggregate_data(df):\n",
    "    df_copy = df.copy()\n",
    "    df_copy['SQLDATE'] = pd.to_datetime(df_copy['SQLDATE'], format='%Y%m%d')\n",
    "    aggregated = df_copy.groupby('SQLDATE').agg({'EventCode': 'size', 'AvgTone': 'sum'}).reset_index()\n",
    "    aggregated.columns = ['SQLDATE', 'Number of Events', 'Total AvgTone']\n",
    "    return aggregated.set_index('SQLDATE')\n",
    "\n",
    "# Aggregate and reindex data\n",
    "data_aggregated = aggregate_data(data)\n",
    "label_data_aggregated = aggregate_data(label_data)\n",
    "\n",
    "# Create a date range and reindex both dataframes\n",
    "all_dates = pd.date_range(start=data_aggregated.index.min(), end=pd.Timestamp.today())\n",
    "reindex_data = data_aggregated.reindex(all_dates, fill_value=0).reset_index()\n",
    "reindex_label_data = label_data_aggregated.reindex(all_dates, fill_value=0).reset_index()\n",
    "\n",
    "# Rename columns\n",
    "reindex_data.columns = ['SQLDATE', 'Number of Events', 'Total AvgTone']\n",
    "reindex_label_data.columns = ['SQLDATE', 'Number of Events', 'Total AvgTone']\n",
    "\n",
    "# Display the resulting DataFrames\n",
    "reindex_data, reindex_label_data\n"
   ]
  },
  {
   "cell_type": "markdown",
   "metadata": {},
   "source": [
    "---\n",
    "\n",
    "## Saving Test & Train Data\n",
    "\n",
    "The reindex_data is the propper formulation for the labels of our data set. Let's quickly save test and train sets. I want to capture a really bad protest, and then see if it can predict some of the events in 2023.\n",
    "\n",
    "Splitting on 2021 seems like a solid choice to capture both types of events.\n",
    "\n",
    "---"
   ]
  },
  {
   "cell_type": "code",
   "execution_count": null,
   "metadata": {},
   "outputs": [
    {
     "ename": "NameError",
     "evalue": "name 'reindex_data' is not defined",
     "output_type": "error",
     "traceback": [
      "\u001b[0;31m---------------------------------------------------------------------------\u001b[0m\n",
      "\u001b[0;31mNameError\u001b[0m                                 Traceback (most recent call last)\n",
      "Cell \u001b[0;32mIn[197], line 2\u001b[0m\n",
      "\u001b[1;32m      1\u001b[0m \u001b[38;5;66;03m# Split the data into before and after 2021\u001b[39;00m\n",
      "\u001b[0;32m----> 2\u001b[0m train_data_labels \u001b[38;5;241m=\u001b[39m \u001b[43mreindex_data\u001b[49m[reindex_data[\u001b[38;5;124m'\u001b[39m\u001b[38;5;124mSQLDATE\u001b[39m\u001b[38;5;124m'\u001b[39m] \u001b[38;5;241m<\u001b[39m \u001b[38;5;124m'\u001b[39m\u001b[38;5;124m2021-01-01\u001b[39m\u001b[38;5;124m'\u001b[39m]\n",
      "\u001b[1;32m      3\u001b[0m test_data_labels \u001b[38;5;241m=\u001b[39m reindex_data[reindex_data[\u001b[38;5;124m'\u001b[39m\u001b[38;5;124mSQLDATE\u001b[39m\u001b[38;5;124m'\u001b[39m] \u001b[38;5;241m>\u001b[39m\u001b[38;5;241m=\u001b[39m \u001b[38;5;124m'\u001b[39m\u001b[38;5;124m2021-01-01\u001b[39m\u001b[38;5;124m'\u001b[39m]\n",
      "\u001b[1;32m      5\u001b[0m \u001b[38;5;66;03m# Display the resulting dataframes\u001b[39;00m\n",
      "\n",
      "\u001b[0;31mNameError\u001b[0m: name 'reindex_data' is not defined"
     ]
    }
   ],
   "source": [
    "# Split the data into before and after 2021\n",
    "train_data_labels = reindex_data[reindex_data['SQLDATE'] < '2021-01-01']\n",
    "test_data_labels = reindex_data[reindex_data['SQLDATE'] >= '2021-01-01']\n",
    "\n",
    "# Display the resulting dataframes\n",
    "print(\"Train Data:\")\n",
    "display(train_data_labels)\n",
    "print(\"\\nTest Data:\")\n",
    "display(test_data_labels)"
   ]
  },
  {
   "cell_type": "code",
   "execution_count": null,
   "metadata": {},
   "outputs": [],
   "source": [
    "# Remove the \"Number of Events\" column\n",
    "train_data_labels = train_data_labels.drop(columns=['Number of Events'])\n",
    "test_data_labels = test_data_labels.drop(columns=['Number of Events'])\n",
    "reindex_data = reindex_data.drop(columns=['Number of Events'])\n",
    "\n",
    "# Save the train and test data to CSV files\n",
    "train_data_labels.to_csv('train_data_labels.csv', index=False)\n",
    "test_data_labels.to_csv('test_data_labels.csv', index=False)\n",
    "reindex_data.to_csv('data_labels.csv', index=False)"
   ]
  },
  {
   "cell_type": "markdown",
   "metadata": {},
   "source": []
  }
 ],
 "metadata": {
  "language_info": {
   "name": "python"
  }
 },
 "nbformat": 4,
 "nbformat_minor": 2
}
