{
 "cells": [
  {
   "cell_type": "markdown",
   "metadata": {},
   "source": [
    "# Let's Engineer the Features!\n",
    "\n",
    "I want to build the model where on a given day, you can review the last rows of the df with the most recent information, and then use that to predict tomorrow's Total AvgTone."
   ]
  },
  {
   "cell_type": "code",
   "execution_count": null,
   "metadata": {},
   "outputs": [
    {
     "data": {
      "text/plain": [
       "(        SQLDATE  Number of Events  Total AvgTone\n",
       " 0    2015-01-08                 1       2.007772\n",
       " 1    2015-01-09                 0       0.000000\n",
       " 2    2015-01-10                 0       0.000000\n",
       " 3    2015-01-11                 0       0.000000\n",
       " 4    2015-01-12                 0       0.000000\n",
       " ...         ...               ...            ...\n",
       " 3636 2024-12-22                 0       0.000000\n",
       " 3637 2024-12-23                 0       0.000000\n",
       " 3638 2024-12-24                 0       0.000000\n",
       " 3639 2024-12-25                 0       0.000000\n",
       " 3640 2024-12-26                 0       0.000000\n",
       " \n",
       " [3641 rows x 3 columns],\n",
       "         SQLDATE  Number of Events  Total AvgTone\n",
       " 0    2015-01-08                 0            0.0\n",
       " 1    2015-01-09                 0            0.0\n",
       " 2    2015-01-10                 0            0.0\n",
       " 3    2015-01-11                 0            0.0\n",
       " 4    2015-01-12                 0            0.0\n",
       " ...         ...               ...            ...\n",
       " 3636 2024-12-22                 0            0.0\n",
       " 3637 2024-12-23                 0            0.0\n",
       " 3638 2024-12-24                 0            0.0\n",
       " 3639 2024-12-25                 0            0.0\n",
       " 3640 2024-12-26                 0            0.0\n",
       " \n",
       " [3641 rows x 3 columns])"
      ]
     },
     "metadata": {},
     "output_type": "display_data"
    }
   ],
   "source": [
    "# Function to aggregate data by date\n",
    "def aggregate_data(df):\n",
    "    df_copy = df.copy()\n",
    "    df_copy['SQLDATE'] = pd.to_datetime(df_copy['SQLDATE'], format='%Y%m%d')\n",
    "    aggregated = df_copy.groupby('SQLDATE').agg({'EventCode': 'size', 'AvgTone': 'sum'}).reset_index()\n",
    "    aggregated.columns = ['SQLDATE', 'Number of Events', 'Total AvgTone']\n",
    "    return aggregated.set_index('SQLDATE')\n",
    "\n",
    "# Aggregate and reindex data\n",
    "data_aggregated = aggregate_data(data)\n",
    "label_data_aggregated = aggregate_data(label_data)\n",
    "\n",
    "# Create a date range and reindex both dataframes\n",
    "all_dates = pd.date_range(start=data_aggregated.index.min(), end=pd.Timestamp.today())\n",
    "reindex_data = data_aggregated.reindex(all_dates, fill_value=0).reset_index()\n",
    "reindex_label_data = label_data_aggregated.reindex(all_dates, fill_value=0).reset_index()\n",
    "\n",
    "# Rename columns\n",
    "reindex_data.columns = ['SQLDATE', 'Number of Events', 'Total AvgTone']\n",
    "reindex_label_data.columns = ['SQLDATE', 'Number of Events', 'Total AvgTone']\n",
    "\n",
    "# Display the resulting DataFrames\n",
    "reindex_data, reindex_label_data\n"
   ]
  },
  {
   "cell_type": "markdown",
   "metadata": {},
   "source": []
  }
 ],
 "metadata": {
  "language_info": {
   "name": "python"
  }
 },
 "nbformat": 4,
 "nbformat_minor": 2
}
