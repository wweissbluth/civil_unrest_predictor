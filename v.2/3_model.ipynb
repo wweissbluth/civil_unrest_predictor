{
 "cells": [
  {
   "cell_type": "markdown",
   "metadata": {},
   "source": [
    "---\n",
    "\n",
    "# Normalizing the Data\n",
    "\n",
    "---"
   ]
  },
  {
   "cell_type": "code",
   "execution_count": 55,
   "metadata": {},
   "outputs": [
    {
     "data": {
      "text/html": [
       "<div>\n",
       "<style scoped>\n",
       "    .dataframe tbody tr th:only-of-type {\n",
       "        vertical-align: middle;\n",
       "    }\n",
       "\n",
       "    .dataframe tbody tr th {\n",
       "        vertical-align: top;\n",
       "    }\n",
       "\n",
       "    .dataframe thead th {\n",
       "        text-align: right;\n",
       "    }\n",
       "</style>\n",
       "<table border=\"1\" class=\"dataframe\">\n",
       "  <thead>\n",
       "    <tr style=\"text-align: right;\">\n",
       "      <th></th>\n",
       "      <th>GlobalEventID</th>\n",
       "      <th>Date</th>\n",
       "      <th>DATEADDED</th>\n",
       "      <th>IsRootEvent</th>\n",
       "      <th>EventCode</th>\n",
       "      <th>EventBaseCode</th>\n",
       "      <th>EventRootCode</th>\n",
       "      <th>GoldsteinScale</th>\n",
       "      <th>NumMentions</th>\n",
       "      <th>AvgTone</th>\n",
       "      <th>ActionGeo_FullName</th>\n",
       "      <th>ActionGeo_Lat</th>\n",
       "      <th>ActionGeo_Long</th>\n",
       "      <th>Lag</th>\n",
       "      <th>LagCluster</th>\n",
       "      <th>Month</th>\n",
       "    </tr>\n",
       "  </thead>\n",
       "  <tbody>\n",
       "    <tr>\n",
       "      <th>0</th>\n",
       "      <td>1218008600</td>\n",
       "      <td>2024-12-29</td>\n",
       "      <td>2024-12-29</td>\n",
       "      <td>1</td>\n",
       "      <td>111</td>\n",
       "      <td>111</td>\n",
       "      <td>11</td>\n",
       "      <td>-2.0</td>\n",
       "      <td>3</td>\n",
       "      <td>6.336634</td>\n",
       "      <td>Chicago, Illinois, United States</td>\n",
       "      <td>41.85</td>\n",
       "      <td>-87.6501</td>\n",
       "      <td>0</td>\n",
       "      <td>0</td>\n",
       "      <td>12</td>\n",
       "    </tr>\n",
       "    <tr>\n",
       "      <th>1</th>\n",
       "      <td>1218059434</td>\n",
       "      <td>2024-12-29</td>\n",
       "      <td>2024-12-29</td>\n",
       "      <td>1</td>\n",
       "      <td>90</td>\n",
       "      <td>90</td>\n",
       "      <td>9</td>\n",
       "      <td>-2.0</td>\n",
       "      <td>10</td>\n",
       "      <td>-6.250000</td>\n",
       "      <td>Chicago, Illinois, United States</td>\n",
       "      <td>41.85</td>\n",
       "      <td>-87.6501</td>\n",
       "      <td>0</td>\n",
       "      <td>0</td>\n",
       "      <td>12</td>\n",
       "    </tr>\n",
       "    <tr>\n",
       "      <th>2</th>\n",
       "      <td>1217968727</td>\n",
       "      <td>2024-12-29</td>\n",
       "      <td>2024-12-29</td>\n",
       "      <td>1</td>\n",
       "      <td>111</td>\n",
       "      <td>111</td>\n",
       "      <td>11</td>\n",
       "      <td>-2.0</td>\n",
       "      <td>4</td>\n",
       "      <td>0.806952</td>\n",
       "      <td>Chicago, Illinois, United States</td>\n",
       "      <td>41.85</td>\n",
       "      <td>-87.6501</td>\n",
       "      <td>0</td>\n",
       "      <td>0</td>\n",
       "      <td>12</td>\n",
       "    </tr>\n",
       "    <tr>\n",
       "      <th>3</th>\n",
       "      <td>1218064446</td>\n",
       "      <td>2024-12-29</td>\n",
       "      <td>2024-12-29</td>\n",
       "      <td>1</td>\n",
       "      <td>90</td>\n",
       "      <td>90</td>\n",
       "      <td>9</td>\n",
       "      <td>-2.0</td>\n",
       "      <td>10</td>\n",
       "      <td>0.884956</td>\n",
       "      <td>Chicago, Illinois, United States</td>\n",
       "      <td>41.85</td>\n",
       "      <td>-87.6501</td>\n",
       "      <td>0</td>\n",
       "      <td>0</td>\n",
       "      <td>12</td>\n",
       "    </tr>\n",
       "    <tr>\n",
       "      <th>4</th>\n",
       "      <td>1218009043</td>\n",
       "      <td>2024-12-29</td>\n",
       "      <td>2024-12-29</td>\n",
       "      <td>1</td>\n",
       "      <td>111</td>\n",
       "      <td>111</td>\n",
       "      <td>11</td>\n",
       "      <td>-2.0</td>\n",
       "      <td>3</td>\n",
       "      <td>6.336634</td>\n",
       "      <td>Chicago, Illinois, United States</td>\n",
       "      <td>41.85</td>\n",
       "      <td>-87.6501</td>\n",
       "      <td>0</td>\n",
       "      <td>0</td>\n",
       "      <td>12</td>\n",
       "    </tr>\n",
       "  </tbody>\n",
       "</table>\n",
       "</div>"
      ],
      "text/plain": [
       "   GlobalEventID        Date   DATEADDED  IsRootEvent  EventCode  \\\n",
       "0     1218008600  2024-12-29  2024-12-29            1        111   \n",
       "1     1218059434  2024-12-29  2024-12-29            1         90   \n",
       "2     1217968727  2024-12-29  2024-12-29            1        111   \n",
       "3     1218064446  2024-12-29  2024-12-29            1         90   \n",
       "4     1218009043  2024-12-29  2024-12-29            1        111   \n",
       "\n",
       "   EventBaseCode  EventRootCode  GoldsteinScale  NumMentions   AvgTone  \\\n",
       "0            111             11            -2.0            3  6.336634   \n",
       "1             90              9            -2.0           10 -6.250000   \n",
       "2            111             11            -2.0            4  0.806952   \n",
       "3             90              9            -2.0           10  0.884956   \n",
       "4            111             11            -2.0            3  6.336634   \n",
       "\n",
       "                 ActionGeo_FullName  ActionGeo_Lat  ActionGeo_Long  Lag  \\\n",
       "0  Chicago, Illinois, United States          41.85        -87.6501    0   \n",
       "1  Chicago, Illinois, United States          41.85        -87.6501    0   \n",
       "2  Chicago, Illinois, United States          41.85        -87.6501    0   \n",
       "3  Chicago, Illinois, United States          41.85        -87.6501    0   \n",
       "4  Chicago, Illinois, United States          41.85        -87.6501    0   \n",
       "\n",
       "   LagCluster  Month  \n",
       "0           0     12  \n",
       "1           0     12  \n",
       "2           0     12  \n",
       "3           0     12  \n",
       "4           0     12  "
      ]
     },
     "metadata": {},
     "output_type": "display_data"
    }
   ],
   "source": [
    "import pandas as pd\n",
    "\n",
    "# Load the CSV file into a DataFrame\n",
    "data = pd.read_csv('csv/data_cleaned.csv')\n",
    "display(data.head())"
   ]
  },
  {
   "cell_type": "code",
   "execution_count": 56,
   "metadata": {},
   "outputs": [],
   "source": [
    "from datetime import datetime\n",
    "import pandas as pd\n",
    "\n",
    "# Calculate the difference in days between today and the dates in the 'Date' column\n",
    "data['EllapsedDays'] = (datetime.now() - pd.to_datetime(data['Date'])).dt.days\n"
   ]
  },
  {
   "cell_type": "code",
   "execution_count": 57,
   "metadata": {},
   "outputs": [
    {
     "data": {
      "text/html": [
       "<div>\n",
       "<style scoped>\n",
       "    .dataframe tbody tr th:only-of-type {\n",
       "        vertical-align: middle;\n",
       "    }\n",
       "\n",
       "    .dataframe tbody tr th {\n",
       "        vertical-align: top;\n",
       "    }\n",
       "\n",
       "    .dataframe thead th {\n",
       "        text-align: right;\n",
       "    }\n",
       "</style>\n",
       "<table border=\"1\" class=\"dataframe\">\n",
       "  <thead>\n",
       "    <tr style=\"text-align: right;\">\n",
       "      <th></th>\n",
       "      <th>GlobalEventID</th>\n",
       "      <th>Date</th>\n",
       "      <th>DATEADDED</th>\n",
       "      <th>IsRootEvent</th>\n",
       "      <th>EventCode</th>\n",
       "      <th>EventBaseCode</th>\n",
       "      <th>EventRootCode</th>\n",
       "      <th>GoldsteinScale</th>\n",
       "      <th>NumMentions</th>\n",
       "      <th>AvgTone</th>\n",
       "      <th>ActionGeo_FullName</th>\n",
       "      <th>ActionGeo_Lat</th>\n",
       "      <th>ActionGeo_Long</th>\n",
       "      <th>Lag</th>\n",
       "      <th>LagCluster</th>\n",
       "      <th>Month</th>\n",
       "      <th>EllapsedDays</th>\n",
       "    </tr>\n",
       "  </thead>\n",
       "  <tbody>\n",
       "    <tr>\n",
       "      <th>0</th>\n",
       "      <td>1218008600</td>\n",
       "      <td>2024-12-29</td>\n",
       "      <td>2024-12-29</td>\n",
       "      <td>1</td>\n",
       "      <td>111</td>\n",
       "      <td>111</td>\n",
       "      <td>11</td>\n",
       "      <td>-2.0</td>\n",
       "      <td>3</td>\n",
       "      <td>6.336634</td>\n",
       "      <td>Chicago, Illinois, United States</td>\n",
       "      <td>41.85</td>\n",
       "      <td>-87.6501</td>\n",
       "      <td>0</td>\n",
       "      <td>0</td>\n",
       "      <td>12</td>\n",
       "      <td>2</td>\n",
       "    </tr>\n",
       "    <tr>\n",
       "      <th>1</th>\n",
       "      <td>1218059434</td>\n",
       "      <td>2024-12-29</td>\n",
       "      <td>2024-12-29</td>\n",
       "      <td>1</td>\n",
       "      <td>90</td>\n",
       "      <td>90</td>\n",
       "      <td>9</td>\n",
       "      <td>-2.0</td>\n",
       "      <td>10</td>\n",
       "      <td>-6.250000</td>\n",
       "      <td>Chicago, Illinois, United States</td>\n",
       "      <td>41.85</td>\n",
       "      <td>-87.6501</td>\n",
       "      <td>0</td>\n",
       "      <td>0</td>\n",
       "      <td>12</td>\n",
       "      <td>2</td>\n",
       "    </tr>\n",
       "    <tr>\n",
       "      <th>2</th>\n",
       "      <td>1217968727</td>\n",
       "      <td>2024-12-29</td>\n",
       "      <td>2024-12-29</td>\n",
       "      <td>1</td>\n",
       "      <td>111</td>\n",
       "      <td>111</td>\n",
       "      <td>11</td>\n",
       "      <td>-2.0</td>\n",
       "      <td>4</td>\n",
       "      <td>0.806952</td>\n",
       "      <td>Chicago, Illinois, United States</td>\n",
       "      <td>41.85</td>\n",
       "      <td>-87.6501</td>\n",
       "      <td>0</td>\n",
       "      <td>0</td>\n",
       "      <td>12</td>\n",
       "      <td>2</td>\n",
       "    </tr>\n",
       "    <tr>\n",
       "      <th>3</th>\n",
       "      <td>1218064446</td>\n",
       "      <td>2024-12-29</td>\n",
       "      <td>2024-12-29</td>\n",
       "      <td>1</td>\n",
       "      <td>90</td>\n",
       "      <td>90</td>\n",
       "      <td>9</td>\n",
       "      <td>-2.0</td>\n",
       "      <td>10</td>\n",
       "      <td>0.884956</td>\n",
       "      <td>Chicago, Illinois, United States</td>\n",
       "      <td>41.85</td>\n",
       "      <td>-87.6501</td>\n",
       "      <td>0</td>\n",
       "      <td>0</td>\n",
       "      <td>12</td>\n",
       "      <td>2</td>\n",
       "    </tr>\n",
       "    <tr>\n",
       "      <th>4</th>\n",
       "      <td>1218009043</td>\n",
       "      <td>2024-12-29</td>\n",
       "      <td>2024-12-29</td>\n",
       "      <td>1</td>\n",
       "      <td>111</td>\n",
       "      <td>111</td>\n",
       "      <td>11</td>\n",
       "      <td>-2.0</td>\n",
       "      <td>3</td>\n",
       "      <td>6.336634</td>\n",
       "      <td>Chicago, Illinois, United States</td>\n",
       "      <td>41.85</td>\n",
       "      <td>-87.6501</td>\n",
       "      <td>0</td>\n",
       "      <td>0</td>\n",
       "      <td>12</td>\n",
       "      <td>2</td>\n",
       "    </tr>\n",
       "  </tbody>\n",
       "</table>\n",
       "</div>"
      ],
      "text/plain": [
       "   GlobalEventID        Date   DATEADDED  IsRootEvent  EventCode  \\\n",
       "0     1218008600  2024-12-29  2024-12-29            1        111   \n",
       "1     1218059434  2024-12-29  2024-12-29            1         90   \n",
       "2     1217968727  2024-12-29  2024-12-29            1        111   \n",
       "3     1218064446  2024-12-29  2024-12-29            1         90   \n",
       "4     1218009043  2024-12-29  2024-12-29            1        111   \n",
       "\n",
       "   EventBaseCode  EventRootCode  GoldsteinScale  NumMentions   AvgTone  \\\n",
       "0            111             11            -2.0            3  6.336634   \n",
       "1             90              9            -2.0           10 -6.250000   \n",
       "2            111             11            -2.0            4  0.806952   \n",
       "3             90              9            -2.0           10  0.884956   \n",
       "4            111             11            -2.0            3  6.336634   \n",
       "\n",
       "                 ActionGeo_FullName  ActionGeo_Lat  ActionGeo_Long  Lag  \\\n",
       "0  Chicago, Illinois, United States          41.85        -87.6501    0   \n",
       "1  Chicago, Illinois, United States          41.85        -87.6501    0   \n",
       "2  Chicago, Illinois, United States          41.85        -87.6501    0   \n",
       "3  Chicago, Illinois, United States          41.85        -87.6501    0   \n",
       "4  Chicago, Illinois, United States          41.85        -87.6501    0   \n",
       "\n",
       "   LagCluster  Month  EllapsedDays  \n",
       "0           0     12             2  \n",
       "1           0     12             2  \n",
       "2           0     12             2  \n",
       "3           0     12             2  \n",
       "4           0     12             2  "
      ]
     },
     "metadata": {},
     "output_type": "display_data"
    }
   ],
   "source": [
    "display(data.head())"
   ]
  },
  {
   "cell_type": "code",
   "execution_count": 58,
   "metadata": {},
   "outputs": [
    {
     "data": {
      "image/png": "[encoded data removed]",
      "text/plain": [
       "<Figure size 640x480 with 1 Axes>"
      ]
     },
     "metadata": {},
     "output_type": "display_data"
    }
   ],
   "source": [
    "import tensorflow as tf\n",
    "import matplotlib.pyplot as plt\n",
    "\n",
    "# Normalize AvgTone with TensorFlow preprocessing layers\n",
    "normalizer = tf.keras.layers.Normalization(axis=-1)\n",
    "normalizer.adapt(data[['AvgTone']].values)  # Adapt to the data\n",
    "data['AvgTone'] = normalizer(data[['AvgTone']].values)\n",
    "\n",
    "# Create TensorFlow dataset\n",
    "def create_tf_dataset(X, Y, batch_size=32, shuffle=True):\n",
    "    dataset = tf.data.Dataset.from_tensor_slices((X, Y))\n",
    "    if shuffle:\n",
    "        dataset = dataset.shuffle(buffer_size=len(X))\n",
    "    return dataset.batch(batch_size).prefetch(tf.data.AUTOTUNE)\n",
    "\n",
    "'''# Convert numpy arrays X and Y to TensorFlow datasets\n",
    "train_dataset = create_tf_dataset(X_train, Y_train)\n",
    "test_dataset = create_tf_dataset(X_test, Y_test, shuffle=False)\n",
    "'''\n",
    "# Plot the distribution of AvgTone\n",
    "plt.hist(data['AvgTone'], bins=50, color='green', alpha=0.7)\n",
    "plt.title('Distribution of AvgTone')\n",
    "plt.xlabel('AvgTone')\n",
    "plt.ylabel('Frequency')\n",
    "plt.show()"
   ]
  },
  {
   "cell_type": "code",
   "execution_count": 59,
   "metadata": {},
   "outputs": [
    {
     "data": {
      "text/html": [
       "<div>\n",
       "<style scoped>\n",
       "    .dataframe tbody tr th:only-of-type {\n",
       "        vertical-align: middle;\n",
       "    }\n",
       "\n",
       "    .dataframe tbody tr th {\n",
       "        vertical-align: top;\n",
       "    }\n",
       "\n",
       "    .dataframe thead th {\n",
       "        text-align: right;\n",
       "    }\n",
       "</style>\n",
       "<table border=\"1\" class=\"dataframe\">\n",
       "  <thead>\n",
       "    <tr style=\"text-align: right;\">\n",
       "      <th></th>\n",
       "      <th>GlobalEventID</th>\n",
       "      <th>Date</th>\n",
       "      <th>DATEADDED</th>\n",
       "      <th>IsRootEvent</th>\n",
       "      <th>EventCode</th>\n",
       "      <th>EventBaseCode</th>\n",
       "      <th>EventRootCode</th>\n",
       "      <th>GoldsteinScale</th>\n",
       "      <th>NumMentions</th>\n",
       "      <th>AvgTone</th>\n",
       "      <th>ActionGeo_FullName</th>\n",
       "      <th>ActionGeo_Lat</th>\n",
       "      <th>ActionGeo_Long</th>\n",
       "      <th>Lag</th>\n",
       "      <th>LagCluster</th>\n",
       "      <th>Month</th>\n",
       "      <th>EllapsedDays</th>\n",
       "    </tr>\n",
       "  </thead>\n",
       "  <tbody>\n",
       "    <tr>\n",
       "      <th>0</th>\n",
       "      <td>1218008600</td>\n",
       "      <td>2024-12-29</td>\n",
       "      <td>2024-12-29</td>\n",
       "      <td>1</td>\n",
       "      <td>111</td>\n",
       "      <td>111</td>\n",
       "      <td>11</td>\n",
       "      <td>-2.0</td>\n",
       "      <td>3</td>\n",
       "      <td>2.461097</td>\n",
       "      <td>Chicago, Illinois, United States</td>\n",
       "      <td>41.85</td>\n",
       "      <td>-87.6501</td>\n",
       "      <td>0</td>\n",
       "      <td>0</td>\n",
       "      <td>12</td>\n",
       "      <td>2</td>\n",
       "    </tr>\n",
       "    <tr>\n",
       "      <th>1</th>\n",
       "      <td>1218059434</td>\n",
       "      <td>2024-12-29</td>\n",
       "      <td>2024-12-29</td>\n",
       "      <td>1</td>\n",
       "      <td>90</td>\n",
       "      <td>90</td>\n",
       "      <td>9</td>\n",
       "      <td>-2.0</td>\n",
       "      <td>10</td>\n",
       "      <td>-0.790913</td>\n",
       "      <td>Chicago, Illinois, United States</td>\n",
       "      <td>41.85</td>\n",
       "      <td>-87.6501</td>\n",
       "      <td>0</td>\n",
       "      <td>0</td>\n",
       "      <td>12</td>\n",
       "      <td>2</td>\n",
       "    </tr>\n",
       "    <tr>\n",
       "      <th>2</th>\n",
       "      <td>1217968727</td>\n",
       "      <td>2024-12-29</td>\n",
       "      <td>2024-12-29</td>\n",
       "      <td>1</td>\n",
       "      <td>111</td>\n",
       "      <td>111</td>\n",
       "      <td>11</td>\n",
       "      <td>-2.0</td>\n",
       "      <td>4</td>\n",
       "      <td>1.032393</td>\n",
       "      <td>Chicago, Illinois, United States</td>\n",
       "      <td>41.85</td>\n",
       "      <td>-87.6501</td>\n",
       "      <td>0</td>\n",
       "      <td>0</td>\n",
       "      <td>12</td>\n",
       "      <td>2</td>\n",
       "    </tr>\n",
       "    <tr>\n",
       "      <th>3</th>\n",
       "      <td>1218064446</td>\n",
       "      <td>2024-12-29</td>\n",
       "      <td>2024-12-29</td>\n",
       "      <td>1</td>\n",
       "      <td>90</td>\n",
       "      <td>90</td>\n",
       "      <td>9</td>\n",
       "      <td>-2.0</td>\n",
       "      <td>10</td>\n",
       "      <td>1.052547</td>\n",
       "      <td>Chicago, Illinois, United States</td>\n",
       "      <td>41.85</td>\n",
       "      <td>-87.6501</td>\n",
       "      <td>0</td>\n",
       "      <td>0</td>\n",
       "      <td>12</td>\n",
       "      <td>2</td>\n",
       "    </tr>\n",
       "    <tr>\n",
       "      <th>4</th>\n",
       "      <td>1218009043</td>\n",
       "      <td>2024-12-29</td>\n",
       "      <td>2024-12-29</td>\n",
       "      <td>1</td>\n",
       "      <td>111</td>\n",
       "      <td>111</td>\n",
       "      <td>11</td>\n",
       "      <td>-2.0</td>\n",
       "      <td>3</td>\n",
       "      <td>2.461097</td>\n",
       "      <td>Chicago, Illinois, United States</td>\n",
       "      <td>41.85</td>\n",
       "      <td>-87.6501</td>\n",
       "      <td>0</td>\n",
       "      <td>0</td>\n",
       "      <td>12</td>\n",
       "      <td>2</td>\n",
       "    </tr>\n",
       "  </tbody>\n",
       "</table>\n",
       "</div>"
      ],
      "text/plain": [
       "   GlobalEventID        Date   DATEADDED  IsRootEvent  EventCode  \\\n",
       "0     1218008600  2024-12-29  2024-12-29            1        111   \n",
       "1     1218059434  2024-12-29  2024-12-29            1         90   \n",
       "2     1217968727  2024-12-29  2024-12-29            1        111   \n",
       "3     1218064446  2024-12-29  2024-12-29            1         90   \n",
       "4     1218009043  2024-12-29  2024-12-29            1        111   \n",
       "\n",
       "   EventBaseCode  EventRootCode  GoldsteinScale  NumMentions   AvgTone  \\\n",
       "0            111             11            -2.0            3  2.461097   \n",
       "1             90              9            -2.0           10 -0.790913   \n",
       "2            111             11            -2.0            4  1.032393   \n",
       "3             90              9            -2.0           10  1.052547   \n",
       "4            111             11            -2.0            3  2.461097   \n",
       "\n",
       "                 ActionGeo_FullName  ActionGeo_Lat  ActionGeo_Long  Lag  \\\n",
       "0  Chicago, Illinois, United States          41.85        -87.6501    0   \n",
       "1  Chicago, Illinois, United States          41.85        -87.6501    0   \n",
       "2  Chicago, Illinois, United States          41.85        -87.6501    0   \n",
       "3  Chicago, Illinois, United States          41.85        -87.6501    0   \n",
       "4  Chicago, Illinois, United States          41.85        -87.6501    0   \n",
       "\n",
       "   LagCluster  Month  EllapsedDays  \n",
       "0           0     12             2  \n",
       "1           0     12             2  \n",
       "2           0     12             2  \n",
       "3           0     12             2  \n",
       "4           0     12             2  "
      ]
     },
     "metadata": {},
     "output_type": "display_data"
    }
   ],
   "source": [
    "display(data.head())"
   ]
  },
  {
   "cell_type": "code",
   "execution_count": 60,
   "metadata": {},
   "outputs": [
    {
     "data": {
      "text/html": [
       "<div>\n",
       "<style scoped>\n",
       "    .dataframe tbody tr th:only-of-type {\n",
       "        vertical-align: middle;\n",
       "    }\n",
       "\n",
       "    .dataframe tbody tr th {\n",
       "        vertical-align: top;\n",
       "    }\n",
       "\n",
       "    .dataframe thead th {\n",
       "        text-align: right;\n",
       "    }\n",
       "</style>\n",
       "<table border=\"1\" class=\"dataframe\">\n",
       "  <thead>\n",
       "    <tr style=\"text-align: right;\">\n",
       "      <th></th>\n",
       "      <th>GlobalEventID</th>\n",
       "      <th>Date</th>\n",
       "      <th>IsRootEvent</th>\n",
       "      <th>EventCode</th>\n",
       "      <th>EventBaseCode</th>\n",
       "      <th>EventRootCode</th>\n",
       "      <th>GoldsteinScale</th>\n",
       "      <th>NumMentions</th>\n",
       "      <th>AvgTone</th>\n",
       "      <th>EllapsedDays</th>\n",
       "    </tr>\n",
       "  </thead>\n",
       "  <tbody>\n",
       "    <tr>\n",
       "      <th>0</th>\n",
       "      <td>1218008600</td>\n",
       "      <td>2024-12-29</td>\n",
       "      <td>1</td>\n",
       "      <td>111</td>\n",
       "      <td>111</td>\n",
       "      <td>11</td>\n",
       "      <td>-2.0</td>\n",
       "      <td>3</td>\n",
       "      <td>2.461097</td>\n",
       "      <td>2</td>\n",
       "    </tr>\n",
       "    <tr>\n",
       "      <th>1</th>\n",
       "      <td>1218059434</td>\n",
       "      <td>2024-12-29</td>\n",
       "      <td>1</td>\n",
       "      <td>90</td>\n",
       "      <td>90</td>\n",
       "      <td>9</td>\n",
       "      <td>-2.0</td>\n",
       "      <td>10</td>\n",
       "      <td>-0.790913</td>\n",
       "      <td>2</td>\n",
       "    </tr>\n",
       "    <tr>\n",
       "      <th>2</th>\n",
       "      <td>1217968727</td>\n",
       "      <td>2024-12-29</td>\n",
       "      <td>1</td>\n",
       "      <td>111</td>\n",
       "      <td>111</td>\n",
       "      <td>11</td>\n",
       "      <td>-2.0</td>\n",
       "      <td>4</td>\n",
       "      <td>1.032393</td>\n",
       "      <td>2</td>\n",
       "    </tr>\n",
       "    <tr>\n",
       "      <th>3</th>\n",
       "      <td>1218064446</td>\n",
       "      <td>2024-12-29</td>\n",
       "      <td>1</td>\n",
       "      <td>90</td>\n",
       "      <td>90</td>\n",
       "      <td>9</td>\n",
       "      <td>-2.0</td>\n",
       "      <td>10</td>\n",
       "      <td>1.052547</td>\n",
       "      <td>2</td>\n",
       "    </tr>\n",
       "    <tr>\n",
       "      <th>4</th>\n",
       "      <td>1218009043</td>\n",
       "      <td>2024-12-29</td>\n",
       "      <td>1</td>\n",
       "      <td>111</td>\n",
       "      <td>111</td>\n",
       "      <td>11</td>\n",
       "      <td>-2.0</td>\n",
       "      <td>3</td>\n",
       "      <td>2.461097</td>\n",
       "      <td>2</td>\n",
       "    </tr>\n",
       "  </tbody>\n",
       "</table>\n",
       "</div>"
      ],
      "text/plain": [
       "   GlobalEventID        Date  IsRootEvent  EventCode  EventBaseCode  \\\n",
       "0     1218008600  2024-12-29            1        111            111   \n",
       "1     1218059434  2024-12-29            1         90             90   \n",
       "2     1217968727  2024-12-29            1        111            111   \n",
       "3     1218064446  2024-12-29            1         90             90   \n",
       "4     1218009043  2024-12-29            1        111            111   \n",
       "\n",
       "   EventRootCode  GoldsteinScale  NumMentions   AvgTone  EllapsedDays  \n",
       "0             11            -2.0            3  2.461097             2  \n",
       "1              9            -2.0           10 -0.790913             2  \n",
       "2             11            -2.0            4  1.032393             2  \n",
       "3              9            -2.0           10  1.052547             2  \n",
       "4             11            -2.0            3  2.461097             2  "
      ]
     },
     "metadata": {},
     "output_type": "display_data"
    }
   ],
   "source": [
    "columns_to_drop = ['DATEADDED', 'ActionGeo_FullName', 'ActionGeo_Lat', 'ActionGeo_Long', 'Lag', 'LagCluster', 'Month']\n",
    "data.drop(columns=columns_to_drop, inplace=True)\n",
    "display(data.head())"
   ]
  },
  {
   "cell_type": "markdown",
   "metadata": {},
   "source": [
    "---\n",
    "\n",
    "# Simple Model #1 \n",
    "\n",
    "Let's simply predict the # of 145 events using the # of any kind of event.\n",
    "\n",
    "This means we only care about `Date` and `EventBaseCode`.\n",
    "\n",
    "---"
   ]
  },
  {
   "cell_type": "code",
   "execution_count": 61,
   "metadata": {},
   "outputs": [
    {
     "name": "stdout",
     "output_type": "stream",
     "text": [
      "Minimum date in the dataset: 2020-01-02\n",
      "Maximum date (today): 2024-12-31\n"
     ]
    }
   ],
   "source": [
    "# Convert the 'Date' column to datetime format\n",
    "data['Date'] = pd.to_datetime(data['Date'])\n",
    "\n",
    "# Find the minimum date in the 'Date' column\n",
    "min_date = data['Date'].min().date()\n",
    "\n",
    "# Set the maximum date to today\n",
    "max_date = datetime.now().date()\n",
    "\n",
    "print(f\"Minimum date in the dataset: {min_date}\")\n",
    "print(f\"Maximum date (today): {max_date}\")"
   ]
  },
  {
   "cell_type": "markdown",
   "metadata": {},
   "source": [
    "---\n",
    "\n",
    "Prepping the unique event codes\n",
    "\n",
    "---"
   ]
  },
  {
   "cell_type": "code",
   "execution_count": 62,
   "metadata": {},
   "outputs": [
    {
     "name": "stdout",
     "output_type": "stream",
     "text": [
      "[24, 25, 90, 91, 92, 93, 94, 104, 105, 111, 113, 114, 123, 124, 133, 138, 139, 141, 143, 144, 145, 172, 175, 182, 183]\n",
      "{24: 0, 25: 1, 90: 2, 91: 3, 92: 4, 93: 5, 94: 6, 104: 7, 105: 8, 111: 9, 113: 10, 114: 11, 123: 12, 124: 13, 133: 14, 138: 15, 139: 16, 141: 17, 143: 18, 144: 19, 145: 20, 172: 21, 175: 22, 182: 23, 183: 24}\n"
     ]
    }
   ],
   "source": [
    "unique_event_base_codes = data['EventBaseCode'].unique()\n",
    "print(sorted(unique_event_base_codes))\n",
    "base_code_to_index = {code: idx for idx, code in enumerate(sorted(unique_event_base_codes))}\n",
    "print(base_code_to_index)"
   ]
  },
  {
   "cell_type": "code",
   "execution_count": 63,
   "metadata": {},
   "outputs": [
    {
     "name": "stdout",
     "output_type": "stream",
     "text": [
      "<class 'numpy.int64'>\n"
     ]
    }
   ],
   "source": [
    "print(type(data.iloc[0]['EventBaseCode']))"
   ]
  },
  {
   "cell_type": "code",
   "execution_count": 64,
   "metadata": {},
   "outputs": [
    {
     "name": "stdout",
     "output_type": "stream",
     "text": [
      "Requirement already satisfied: pandas in /opt/anaconda3/envs/civil_unrest/lib/python3.9/site-packages (2.2.3)\n",
      "Requirement already satisfied: numpy>=1.22.4 in /opt/anaconda3/envs/civil_unrest/lib/python3.9/site-packages (from pandas) (1.26.4)\n",
      "Requirement already satisfied: python-dateutil>=2.8.2 in /opt/anaconda3/envs/civil_unrest/lib/python3.9/site-packages (from pandas) (2.9.0.post0)\n",
      "Requirement already satisfied: pytz>=2020.1 in /opt/anaconda3/envs/civil_unrest/lib/python3.9/site-packages (from pandas) (2024.1)\n",
      "Requirement already satisfied: tzdata>=2022.7 in /opt/anaconda3/envs/civil_unrest/lib/python3.9/site-packages (from pandas) (2023.3)\n",
      "Requirement already satisfied: six>=1.5 in /opt/anaconda3/envs/civil_unrest/lib/python3.9/site-packages (from python-dateutil>=2.8.2->pandas) (1.16.0)\n",
      "Note: you may need to restart the kernel to use updated packages.\n"
     ]
    },
    {
     "data": {
      "text/plain": [
       "\"# Initialize the rest of the columns with zeros\\nfor col in base_code_to_index.keys():\\n    event_count_df[col] = 0\\n\\nfor date in event_count_df['Date']:\\n    day_data = data[data['Date'].dt.date == date.date()]\\n    for _, row in day_data.iterrows():\\n        event_count_df.loc[event_count_df['Date'] == date, row['EventBaseCode']] += 1\\n\\ndisplay(event_count_df)\\n\""
      ]
     },
     "execution_count": 64,
     "metadata": {},
     "output_type": "execute_result"
    }
   ],
   "source": [
    "from datetime import timedelta\n",
    "import pandas as pd\n",
    "\n",
    "# Ensure pandas is installed\n",
    "%pip install pandas\n",
    "\n",
    "# Create a DataFrame with dates and base_code_to_index as columns\n",
    "event_count_df = pd.DataFrame(columns=['Date'] + list(base_code_to_index.keys()))\n",
    "\n",
    "# Populate the Date column with the date range\n",
    "event_count_df['Date'] = pd.date_range(start=min_date, end=max_date - timedelta(days=7))\n",
    "\n",
    "'''# Initialize the rest of the columns with zeros\n",
    "for col in base_code_to_index.keys():\n",
    "    event_count_df[col] = 0\n",
    "\n",
    "for date in event_count_df['Date']:\n",
    "    day_data = data[data['Date'].dt.date == date.date()]\n",
    "    for _, row in day_data.iterrows():\n",
    "        event_count_df.loc[event_count_df['Date'] == date, row['EventBaseCode']] += 1\n",
    "\n",
    "display(event_count_df)\n",
    "'''"
   ]
  },
  {
   "cell_type": "code",
   "execution_count": 65,
   "metadata": {},
   "outputs": [
    {
     "name": "stderr",
     "output_type": "stream",
     "text": [
      "/var/folders/bh/bs5kljm140s_4k8bp_hzf8n00000gn/T/ipykernel_63682/2835754970.py:7: FutureWarning: Downcasting object dtype arrays on .fillna, .ffill, .bfill is deprecated and will change in a future version. Call result.infer_objects(copy=False) instead. To opt-in to the future behavior, set `pd.set_option('future.no_silent_downcasting', True)`\n",
      "  event_data = event_count_df.iloc[:, 1:].fillna(0).values  # Exclude the 'Date' column\n",
      "/var/folders/bh/bs5kljm140s_4k8bp_hzf8n00000gn/T/ipykernel_63682/2835754970.py:8: FutureWarning: Downcasting object dtype arrays on .fillna, .ffill, .bfill is deprecated and will change in a future version. Call result.infer_objects(copy=False) instead. To opt-in to the future behavior, set `pd.set_option('future.no_silent_downcasting', True)`\n",
      "  labels = event_count_df[145].fillna(0).values  # The target column\n"
     ]
    }
   ],
   "source": [
    "import tensorflow as tf\n",
    "\n",
    "# Define a sequence length (rolling window size)\n",
    "sequence_length = 7\n",
    "\n",
    "# Convert data to numpy arrays and fill NaN values with 0\n",
    "event_data = event_count_df.iloc[:, 1:].fillna(0).values  # Exclude the 'Date' column\n",
    "labels = event_count_df[145].fillna(0).values  # The target column\n",
    "\n",
    "# Create TensorFlow datasets\n",
    "X_dataset = tf.data.Dataset.from_tensor_slices(event_data)\n",
    "Y_dataset = tf.data.Dataset.from_tensor_slices(labels)"
   ]
  },
  {
   "cell_type": "code",
   "execution_count": 66,
   "metadata": {},
   "outputs": [
    {
     "data": {
      "text/plain": [
       "\"# Install torch if not already installed\\n#%pip install torch\\nimport torch\\n# This will have Batches, Sequence Length, Features\\n# Batches will be len([min date, max date-7)) if we have 20 days of data, we'll have 13 batches, each with 7 days of data. It'll be a rolling window\\n# Sequence Length will be 7 days\\n# Features will be count of unique EventBaseCode encoded as a one-hot vector\\n\\n# Initialize an empty list to store the sequences\\nsequences = []\\n\\n# Iterate through the event_count_df to create 7-day sequences\\nfor start in range(len(event_count_df) - 6):\\n    # Extract a 7-day sequence\\n    sequence = event_count_df.iloc[start:start + 7, 1:].values\\n    sequences.append(sequence)\\n\\n# Convert the list of sequences to a torch tensor\\nX = torch.tensor(sequences, dtype=torch.float32)\\n\\n# Display the shape of the tensor to verify\\ndisplay(X.shape)\""
      ]
     },
     "execution_count": 66,
     "metadata": {},
     "output_type": "execute_result"
    }
   ],
   "source": [
    "'''# Install torch if not already installed\n",
    "#%pip install torch\n",
    "import torch\n",
    "# This will have Batches, Sequence Length, Features\n",
    "# Batches will be len([min date, max date-7)) if we have 20 days of data, we'll have 13 batches, each with 7 days of data. It'll be a rolling window\n",
    "# Sequence Length will be 7 days\n",
    "# Features will be count of unique EventBaseCode encoded as a one-hot vector\n",
    "\n",
    "# Initialize an empty list to store the sequences\n",
    "sequences = []\n",
    "\n",
    "# Iterate through the event_count_df to create 7-day sequences\n",
    "for start in range(len(event_count_df) - 6):\n",
    "    # Extract a 7-day sequence\n",
    "    sequence = event_count_df.iloc[start:start + 7, 1:].values\n",
    "    sequences.append(sequence)\n",
    "\n",
    "# Convert the list of sequences to a torch tensor\n",
    "X = torch.tensor(sequences, dtype=torch.float32)\n",
    "\n",
    "# Display the shape of the tensor to verify\n",
    "display(X.shape)'''"
   ]
  },
  {
   "cell_type": "code",
   "execution_count": 67,
   "metadata": {},
   "outputs": [
    {
     "data": {
      "text/plain": [
       "'import pandas as pd\\n\\n# Convert the first sequence to a DataFrame\\nprint(\"First sequence\")\\ndf_first_sequence = pd.DataFrame(X[0].numpy(), columns=base_code_to_index.keys())\\ndisplay(df_first_sequence)\\n\\n# Convert the last sequence to a DataFrame\\nprint(\\'Last sequence\\')\\ndf_last_sequence = pd.DataFrame(X[-1].numpy(), columns=base_code_to_index.keys())\\ndisplay(df_last_sequence)'"
      ]
     },
     "execution_count": 67,
     "metadata": {},
     "output_type": "execute_result"
    }
   ],
   "source": [
    "'''import pandas as pd\n",
    "\n",
    "# Convert the first sequence to a DataFrame\n",
    "print(\"First sequence\")\n",
    "df_first_sequence = pd.DataFrame(X[0].numpy(), columns=base_code_to_index.keys())\n",
    "display(df_first_sequence)\n",
    "\n",
    "# Convert the last sequence to a DataFrame\n",
    "print('Last sequence')\n",
    "df_last_sequence = pd.DataFrame(X[-1].numpy(), columns=base_code_to_index.keys())\n",
    "display(df_last_sequence)'''"
   ]
  },
  {
   "cell_type": "code",
   "execution_count": 68,
   "metadata": {},
   "outputs": [],
   "source": [
    "# Create rolling windows\n",
    "X_sequences = X_dataset.window(sequence_length, shift=1, drop_remainder=True)\n",
    "X_sequences = X_sequences.flat_map(lambda window: window.batch(sequence_length))"
   ]
  },
  {
   "cell_type": "markdown",
   "metadata": {},
   "source": [
    "---\n",
    "\n",
    "## Prepping Y\n",
    "\n",
    "---"
   ]
  },
  {
   "cell_type": "code",
   "execution_count": 69,
   "metadata": {},
   "outputs": [
    {
     "data": {
      "text/plain": [
       "\"# Extract the counts of event 145 from event_count_df\\nY = event_count_df[['Date', 145]].copy()\\n\\n# Display the first few rows of Y to verify\\ndisplay(Y)\""
      ]
     },
     "execution_count": 69,
     "metadata": {},
     "output_type": "execute_result"
    }
   ],
   "source": [
    "'''# Extract the counts of event 145 from event_count_df\n",
    "Y = event_count_df[['Date', 145]].copy()\n",
    "\n",
    "# Display the first few rows of Y to verify\n",
    "display(Y)'''"
   ]
  },
  {
   "cell_type": "code",
   "execution_count": 70,
   "metadata": {},
   "outputs": [],
   "source": [
    "# Align labels with sequences\n",
    "Y_labels = Y_dataset.skip(sequence_length - 1)\n",
    "\n",
    "# Combine features and labels\n",
    "dataset = tf.data.Dataset.zip((X_sequences, Y_labels))\n",
    "\n"
   ]
  },
  {
   "cell_type": "markdown",
   "metadata": {},
   "source": [
    "---\n",
    "\n",
    "## Ensuring X and Y Correspond Correctly \n",
    "\n",
    "---"
   ]
  },
  {
   "cell_type": "markdown",
   "metadata": {},
   "source": [
    "---\n",
    "\n",
    "We can use X[0] --- the first 7 dates of history --- to predict the 8th date.\n",
    "\n",
    "In terms of prediction, the Y[0] must be the 8th date in event_count_df.\n",
    "\n",
    "This is critical to pair X and Y.\n",
    "\n",
    "---"
   ]
  },
  {
   "cell_type": "code",
   "execution_count": 71,
   "metadata": {},
   "outputs": [
    {
     "data": {
      "text/plain": [
       "\"first_y_date = event_count_df.iloc[7]['Date'].date()\\ndisplay(first_y_date)\""
      ]
     },
     "execution_count": 71,
     "metadata": {},
     "output_type": "execute_result"
    }
   ],
   "source": [
    "'''first_y_date = event_count_df.iloc[7]['Date'].date()\n",
    "display(first_y_date)'''"
   ]
  },
  {
   "cell_type": "code",
   "execution_count": 72,
   "metadata": {},
   "outputs": [
    {
     "data": {
      "text/plain": [
       "\"# Filter Y to remove all dates before first_y_date\\nY = Y[Y['Date'] >= pd.to_datetime(first_y_date)]\\n\\n# Display the first few rows of the modified Y to verify\\ndisplay(Y.head())\""
      ]
     },
     "execution_count": 72,
     "metadata": {},
     "output_type": "execute_result"
    }
   ],
   "source": [
    "'''# Filter Y to remove all dates before first_y_date\n",
    "Y = Y[Y['Date'] >= pd.to_datetime(first_y_date)]\n",
    "\n",
    "# Display the first few rows of the modified Y to verify\n",
    "display(Y.head())'''"
   ]
  },
  {
   "cell_type": "markdown",
   "metadata": {},
   "source": [
    "---\n",
    "\n",
    "Let's ensure we understand what is in X.\n",
    "\n",
    "---"
   ]
  },
  {
   "cell_type": "code",
   "execution_count": 73,
   "metadata": {},
   "outputs": [
    {
     "data": {
      "text/plain": [
       "\"# Convert the last row of X to a DataFrame\\ndf_last_row_X = pd.DataFrame([X[-1][-1].numpy()], columns=base_code_to_index.keys())\\ndisplay(df_last_row_X)\\n\\n# Display the last row of event_count_df\\ndf_last_row_event_count = event_count_df.iloc[[-1]].drop(columns='Date')\\ndisplay(df_last_row_event_count)\\n\\n# Add df_last_row_X to df_last_row_event_count\\ndf_sum = df_last_row_X.add(df_last_row_event_count, fill_value=0)\\ndisplay(df_sum)\""
      ]
     },
     "execution_count": 73,
     "metadata": {},
     "output_type": "execute_result"
    }
   ],
   "source": [
    "'''# Convert the last row of X to a DataFrame\n",
    "df_last_row_X = pd.DataFrame([X[-1][-1].numpy()], columns=base_code_to_index.keys())\n",
    "display(df_last_row_X)\n",
    "\n",
    "# Display the last row of event_count_df\n",
    "df_last_row_event_count = event_count_df.iloc[[-1]].drop(columns='Date')\n",
    "display(df_last_row_event_count)\n",
    "\n",
    "# Add df_last_row_X to df_last_row_event_count\n",
    "df_sum = df_last_row_X.add(df_last_row_event_count, fill_value=0)\n",
    "display(df_sum)'''"
   ]
  },
  {
   "cell_type": "markdown",
   "metadata": {},
   "source": [
    "---\n",
    "\n",
    "Good! It looks like the last line in X is the last line in event_count_df.\n",
    "\n",
    "What we want is for the last date in X to be **the day before the last date in Y**\n",
    "\n",
    "---"
   ]
  },
  {
   "cell_type": "code",
   "execution_count": 74,
   "metadata": {},
   "outputs": [
    {
     "data": {
      "text/plain": [
       "'last_date_event_count_df = event_count_df.iloc[-1][\\'Date\\']\\nlast_date_Y = Y.iloc[-1][\\'Date\\']\\n\\nprint(f\"Last date in event_count_df: {last_date_event_count_df}\")\\nprint(f\"Last date in Y: {last_date_Y}\")'"
      ]
     },
     "execution_count": 74,
     "metadata": {},
     "output_type": "execute_result"
    }
   ],
   "source": [
    "'''last_date_event_count_df = event_count_df.iloc[-1]['Date']\n",
    "last_date_Y = Y.iloc[-1]['Date']\n",
    "\n",
    "print(f\"Last date in event_count_df: {last_date_event_count_df}\")\n",
    "print(f\"Last date in Y: {last_date_Y}\")'''"
   ]
  },
  {
   "cell_type": "markdown",
   "metadata": {},
   "source": [
    "---\n",
    "\n",
    "We should therefore drop the last date in X\n",
    "\n",
    "---\n"
   ]
  },
  {
   "cell_type": "code",
   "execution_count": 75,
   "metadata": {},
   "outputs": [
    {
     "data": {
      "text/plain": [
       "'# Remove the last sequence from X\\nX = X[:-1]\\n\\n# Display the shape of the tensor to verify\\ndisplay(X.shape)'"
      ]
     },
     "execution_count": 75,
     "metadata": {},
     "output_type": "execute_result"
    }
   ],
   "source": [
    "'''# Remove the last sequence from X\n",
    "X = X[:-1]\n",
    "\n",
    "# Display the shape of the tensor to verify\n",
    "display(X.shape)'''"
   ]
  },
  {
   "cell_type": "markdown",
   "metadata": {},
   "source": [
    "---\n",
    "\n",
    "Let's make sure X and Y are the same shape.\n",
    "\n",
    "---"
   ]
  },
  {
   "cell_type": "code",
   "execution_count": 76,
   "metadata": {},
   "outputs": [
    {
     "data": {
      "text/plain": [
       "'print(f\"Shape of X: {X.shape}\")\\nprint(f\"Shape of Y: {Y.shape}\")'"
      ]
     },
     "execution_count": 76,
     "metadata": {},
     "output_type": "execute_result"
    }
   ],
   "source": [
    "'''print(f\"Shape of X: {X.shape}\")\n",
    "print(f\"Shape of Y: {Y.shape}\")'''"
   ]
  },
  {
   "cell_type": "markdown",
   "metadata": {},
   "source": [
    "--- \n",
    "\n",
    "Ok good! We have the same number of each X and Y, so we can pair them propperly.\n",
    "\n",
    "---"
   ]
  },
  {
   "cell_type": "markdown",
   "metadata": {},
   "source": [
    "---\n",
    "\n",
    "## Test / Train Split\n",
    "\n",
    "We want to capture both George Floyd and the DNC in Chicago, so if we split it 50/50, we'll capture both events.\n",
    "\n",
    "---"
   ]
  },
  {
   "cell_type": "code",
   "execution_count": 77,
   "metadata": {},
   "outputs": [
    {
     "data": {
      "text/plain": [
       "\"import matplotlib.pyplot as plt\\n\\nY.plot(x='Date', y=145, kind='line', title='Count of Event 145 Over Time') \\n#TODO the documentation says that event codes should be type str, but it's type int rn - I have no qualms but it's bad form\\nplt.xlabel('Date')\\nplt.ylabel('Count of Event 145')\\nplt.show()\""
      ]
     },
     "execution_count": 77,
     "metadata": {},
     "output_type": "execute_result"
    }
   ],
   "source": [
    "'''import matplotlib.pyplot as plt\n",
    "\n",
    "Y.plot(x='Date', y=145, kind='line', title='Count of Event 145 Over Time') \n",
    "#TODO the documentation says that event codes should be type str, but it's type int rn - I have no qualms but it's bad form\n",
    "plt.xlabel('Date')\n",
    "plt.ylabel('Count of Event 145')\n",
    "plt.show()'''"
   ]
  },
  {
   "cell_type": "markdown",
   "metadata": {},
   "source": [
    "---\n",
    "\n",
    "The idea is that these would be unsafe days in the City, and that the training set should learn what those look like, and the testing set should be able to predict them.\n",
    "\n",
    "---"
   ]
  },
  {
   "cell_type": "code",
   "execution_count": 78,
   "metadata": {},
   "outputs": [],
   "source": [
    "# Split into train and test datasets\n",
    "split_index = len(event_data) // 2\n",
    "train_dataset = dataset.take(split_index).batch(32).prefetch(tf.data.AUTOTUNE)\n",
    "test_dataset = dataset.skip(split_index).batch(32).prefetch(tf.data.AUTOTUNE)\n"
   ]
  },
  {
   "cell_type": "code",
   "execution_count": 79,
   "metadata": {},
   "outputs": [
    {
     "data": {
      "text/plain": [
       "'# Calculate the split index\\nsplit_index = len(X) // 2\\n\\n# Split X into test and train sets\\nX_test = X[:split_index]\\nX_train = X[split_index:]\\n\\n# Split Y into test and train sets\\nY_test = Y[:split_index]\\nY_train = Y[split_index:]\\n\\n# Display the shapes to verify\\nprint(f\"Shape of X_test: {X_test.shape}\")\\nprint(f\"Shape of Y_test: {Y_test.shape}\")\\nprint(f\"Shape of X_train: {X_train.shape}\")\\nprint(f\"Shape of Y_train: {Y_train.shape}\")'"
      ]
     },
     "execution_count": 79,
     "metadata": {},
     "output_type": "execute_result"
    }
   ],
   "source": [
    "'''# Calculate the split index\n",
    "split_index = len(X) // 2\n",
    "\n",
    "# Split X into test and train sets\n",
    "X_test = X[:split_index]\n",
    "X_train = X[split_index:]\n",
    "\n",
    "# Split Y into test and train sets\n",
    "Y_test = Y[:split_index]\n",
    "Y_train = Y[split_index:]\n",
    "\n",
    "# Display the shapes to verify\n",
    "print(f\"Shape of X_test: {X_test.shape}\")\n",
    "print(f\"Shape of Y_test: {Y_test.shape}\")\n",
    "print(f\"Shape of X_train: {X_train.shape}\")\n",
    "print(f\"Shape of Y_train: {Y_train.shape}\")'''"
   ]
  },
  {
   "cell_type": "markdown",
   "metadata": {},
   "source": [
    "---\n",
    "\n",
    "# Creating the Model\n",
    "\n",
    "---"
   ]
  },
  {
   "cell_type": "code",
   "execution_count": 80,
   "metadata": {},
   "outputs": [
    {
     "ename": "NameError",
     "evalue": "name 'model' is not defined",
     "output_type": "error",
     "traceback": [
      "\u001b[0;31m---------------------------------------------------------------------------\u001b[0m",
      "\u001b[0;31mNameError\u001b[0m                                 Traceback (most recent call last)",
      "Cell \u001b[0;32mIn[80], line 1\u001b[0m\n\u001b[0;32m----> 1\u001b[0m history \u001b[38;5;241m=\u001b[39m \u001b[43mmodel\u001b[49m\u001b[38;5;241m.\u001b[39mfit(\n\u001b[1;32m      2\u001b[0m     train_dataset,\n\u001b[1;32m      3\u001b[0m     validation_data\u001b[38;5;241m=\u001b[39mtest_dataset,\n\u001b[1;32m      4\u001b[0m     epochs\u001b[38;5;241m=\u001b[39m\u001b[38;5;241m50\u001b[39m,\n\u001b[1;32m      5\u001b[0m     callbacks\u001b[38;5;241m=\u001b[39mcallbacks\n\u001b[1;32m      6\u001b[0m )\n",
      "\u001b[0;31mNameError\u001b[0m: name 'model' is not defined"
     ]
    }
   ],
   "source": [
    "history = model.fit(\n",
    "    train_dataset,\n",
    "    validation_data=test_dataset,\n",
    "    epochs=50,\n",
    "    callbacks=callbacks\n",
    ")\n"
   ]
  },
  {
   "cell_type": "code",
   "execution_count": null,
   "metadata": {},
   "outputs": [],
   "source": [
    "'''import tensorflow as tf\n",
    "from tensorflow.keras.models import Sequential\n",
    "from tensorflow.keras.layers import LSTM, Dense\n",
    "\n",
    "# Define the LSTM model\n",
    "model = Sequential()\n",
    "model.add(LSTM(50, activation='relu', input_shape=(X.shape[1], X.shape[2])))\n",
    "model.add(Dense(1))\n",
    "\n",
    "# Compile the model\n",
    "model.compile(optimizer='adam', loss='mse')\n",
    "\n",
    "# Display the model summary\n",
    "model.summary()\n",
    "\n",
    "# Train the model\n",
    "history = model.fit(X_train, Y_train[145].values, epochs=50, batch_size=32, validation_data=(X_test, Y_test[145].values))\n",
    "\n",
    "# Plot the training and validation loss\n",
    "plt.plot(history.history['loss'], label='train')\n",
    "plt.plot(history.history['val_loss'], label='validation')\n",
    "plt.title('Model Loss')\n",
    "plt.xlabel('Epochs')\n",
    "plt.ylabel('Loss')\n",
    "plt.legend()\n",
    "plt.show()'''"
   ]
  },
  {
   "cell_type": "code",
   "execution_count": null,
   "metadata": {},
   "outputs": [],
   "source": [
    "'''# Initialize the model, loss function, and optimizer\n",
    "input_size = X.shape[2]\n",
    "hidden_size = 50\n",
    "num_layers = 2\n",
    "output_size = 1\n",
    "\n",
    "model = LSTMModel(input_size, hidden_size, num_layers, output_size)\n",
    "criterion = nn.MSELoss()\n",
    "optimizer = optim.Adam(model.parameters(), lr=0.001)\n",
    "\n",
    "# Convert Y_train to tensor\n",
    "Y_train_tensor = torch.tensor(Y_train[145].values, dtype=torch.float32).view(-1, 1)\n",
    "\n",
    "# Train the model\n",
    "num_epochs = 100\n",
    "for epoch in range(num_epochs):\n",
    "    model.train()\n",
    "    outputs = model(X_train)\n",
    "    optimizer.zero_grad()\n",
    "    loss = criterion(outputs, Y_train_tensor)\n",
    "    loss.backward()\n",
    "    optimizer.step()\n",
    "    if (epoch+1) % 10 == 0:\n",
    "        print(f'Epoch [{epoch+1}/{num_epochs}], Loss: {loss.item():.4f}')\n",
    "\n",
    "# Evaluate the model\n",
    "model.eval()\n",
    "with torch.no_grad():\n",
    "    Y_test_tensor = torch.tensor(Y_test[145].values, dtype=torch.float32).view(-1, 1)\n",
    "    predicted = model(X_test)\n",
    "    test_loss = criterion(predicted, Y_test_tensor)\n",
    "    print(f'Test Loss: {test_loss.item():.4f}')\n",
    "'''"
   ]
  },
  {
   "cell_type": "markdown",
   "metadata": {},
   "source": [
    "---\n",
    "\n",
    "# Model 1 Predictions & Results\n",
    "\n",
    "---"
   ]
  },
  {
   "cell_type": "markdown",
   "metadata": {},
   "source": [
    "---\n",
    "\n",
    "## Model 1 Analysis\n",
    "\n",
    "Error rate?\n",
    "Overfitting?\n",
    "\n",
    "---"
   ]
  },
  {
   "cell_type": "markdown",
   "metadata": {},
   "source": [
    "---\n",
    "\n",
    "## Model Prunning\n",
    "\n",
    "Which event codes were associated with 145 events and which ones were not?\n",
    "\n",
    "---"
   ]
  }
 ],
 "metadata": {
  "kernelspec": {
   "display_name": "Python (civil_unrest)",
   "language": "python",
   "name": "civil_unrest"
  },
  "language_info": {
   "codemirror_mode": {
    "name": "ipython",
    "version": 3
   },
   "file_extension": ".py",
   "mimetype": "text/x-python",
   "name": "python",
   "nbconvert_exporter": "python",
   "pygments_lexer": "ipython3",
   "version": "3.9.21"
  }
 },
 "nbformat": 4,
 "nbformat_minor": 2
}
